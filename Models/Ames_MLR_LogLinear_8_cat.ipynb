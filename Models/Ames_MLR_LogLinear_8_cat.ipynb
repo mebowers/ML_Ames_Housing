{
 "cells": [
  {
   "cell_type": "markdown",
   "id": "055e56bb-5515-453a-ad89-1b3ee8f07b1f",
   "metadata": {},
   "source": [
    "# **MLR log-linear 8/cat model:**\n",
    "\n",
    "log-linear model with 8 numeric feautures reduced by SequentialFeatureSelector with **tol=0.005**, combined with the top categorical features scored against them.  "
   ]
  },
  {
   "cell_type": "code",
   "execution_count": 2,
   "id": "20646d3e-b7c0-4e90-9cb5-f33eb9bafd54",
   "metadata": {
    "scrolled": true
   },
   "outputs": [],
   "source": [
    "# libraries\n",
    "import pandas as pd\n",
    "import numpy as np\n",
    "import matplotlib.pyplot as plt\n",
    "import seaborn as sns\n",
    "from sklearn.impute import SimpleImputer\n",
    "from sklearn.preprocessing import StandardScaler, OrdinalEncoder, OneHotEncoder\n",
    "from sklearn.pipeline import Pipeline\n",
    "from sklearn.compose import ColumnTransformer\n",
    "from sklearn.model_selection import cross_val_score, train_test_split\n",
    "from sklearn.linear_model import LinearRegression\n",
    "from sklearn.feature_selection import SequentialFeatureSelector\n",
    "\n",
    "# Import raw data, if needed for comparison.\n",
    "ames_raw = pd.read_csv('Ames_Housing_Price_Data.csv', index_col=0).reset_index()\n",
    "ames_raw.drop(columns=['index'], inplace=True)\n",
    "ames_raw.head(2)\n",
    "\n",
    "# Import cleaned data for modeling\n",
    "ames = pd.read_pickle('ames_clean.pkl')"
   ]
  },
  {
   "cell_type": "code",
   "execution_count": 3,
   "id": "7a953b6b-110b-4476-b1b0-440d32e27bd1",
   "metadata": {
    "scrolled": true
   },
   "outputs": [
    {
     "name": "stdout",
     "output_type": "stream",
     "text": [
      "number of sfs-reduced numerical features (without target): 8\n"
     ]
    },
    {
     "data": {
      "text/html": [
       "<div>\n",
       "<style scoped>\n",
       "    .dataframe tbody tr th:only-of-type {\n",
       "        vertical-align: middle;\n",
       "    }\n",
       "\n",
       "    .dataframe tbody tr th {\n",
       "        vertical-align: top;\n",
       "    }\n",
       "\n",
       "    .dataframe thead th {\n",
       "        text-align: right;\n",
       "    }\n",
       "</style>\n",
       "<table border=\"1\" class=\"dataframe\">\n",
       "  <thead>\n",
       "    <tr style=\"text-align: right;\">\n",
       "      <th></th>\n",
       "      <th>GrLivArea</th>\n",
       "      <th>YearBuilt</th>\n",
       "      <th>YearRemodAdd</th>\n",
       "      <th>BsmtUnfSF</th>\n",
       "      <th>TotalBsmtSF</th>\n",
       "      <th>KitchenAbvGr</th>\n",
       "      <th>Fireplaces</th>\n",
       "      <th>GarageArea</th>\n",
       "    </tr>\n",
       "  </thead>\n",
       "  <tbody>\n",
       "    <tr>\n",
       "      <th>0</th>\n",
       "      <td>856</td>\n",
       "      <td>1939</td>\n",
       "      <td>1950</td>\n",
       "      <td>618.0</td>\n",
       "      <td>856.0</td>\n",
       "      <td>1</td>\n",
       "      <td>1</td>\n",
       "      <td>399.0</td>\n",
       "    </tr>\n",
       "    <tr>\n",
       "      <th>1</th>\n",
       "      <td>1049</td>\n",
       "      <td>1984</td>\n",
       "      <td>1984</td>\n",
       "      <td>104.0</td>\n",
       "      <td>1049.0</td>\n",
       "      <td>1</td>\n",
       "      <td>0</td>\n",
       "      <td>266.0</td>\n",
       "    </tr>\n",
       "  </tbody>\n",
       "</table>\n",
       "</div>"
      ],
      "text/plain": [
       "   GrLivArea  YearBuilt  YearRemodAdd  BsmtUnfSF  TotalBsmtSF  KitchenAbvGr  \\\n",
       "0        856       1939          1950      618.0        856.0             1   \n",
       "1       1049       1984          1984      104.0       1049.0             1   \n",
       "\n",
       "   Fireplaces  GarageArea  \n",
       "0           1       399.0  \n",
       "1           0       266.0  "
      ]
     },
     "execution_count": 3,
     "metadata": {},
     "output_type": "execute_result"
    }
   ],
   "source": [
    "# define numerical features list as determined in Ames_MLR_LogLinear_sfs.ipynb\n",
    "# with default sfs tol=None\n",
    "# sfs_numerical_features_list = ['GrLivArea', 'LotFrontage', 'LotArea', 'YearBuilt', 'YearRemodAdd',\n",
    "#        'BsmtFinSF1', 'BsmtUnfSF', 'TotalBsmtSF', 'LowQualFinSF',\n",
    "#        'BedroomAbvGr', 'KitchenAbvGr', 'Fireplaces', 'GarageCars',\n",
    "#        'GarageArea', 'ScreenPorch']\n",
    "\n",
    "# with sfs tol=0.005\n",
    "sfs_numerical_features_list = ['GrLivArea', 'YearBuilt', 'YearRemodAdd', 'BsmtUnfSF',\n",
    "       'TotalBsmtSF', 'KitchenAbvGr', 'Fireplaces', 'GarageArea']\n",
    "\n",
    "# define numerical features\n",
    "sfs_numerical_features = ames[sfs_numerical_features_list]\n",
    "\n",
    "# print number of numerical features and head of df\n",
    "print(f'number of sfs-reduced numerical features (without target): {len(sfs_numerical_features_list)}')\n",
    "sfs_numerical_features.head(2)"
   ]
  },
  {
   "cell_type": "code",
   "execution_count": 4,
   "id": "e29677e7-ef1a-4cc4-9880-e7136d628f7f",
   "metadata": {
    "scrolled": true
   },
   "outputs": [
    {
     "name": "stdout",
     "output_type": "stream",
     "text": [
      "number of categorical features: 48\n"
     ]
    },
    {
     "data": {
      "text/html": [
       "<div>\n",
       "<style scoped>\n",
       "    .dataframe tbody tr th:only-of-type {\n",
       "        vertical-align: middle;\n",
       "    }\n",
       "\n",
       "    .dataframe tbody tr th {\n",
       "        vertical-align: top;\n",
       "    }\n",
       "\n",
       "    .dataframe thead th {\n",
       "        text-align: right;\n",
       "    }\n",
       "</style>\n",
       "<table border=\"1\" class=\"dataframe\">\n",
       "  <thead>\n",
       "    <tr style=\"text-align: right;\">\n",
       "      <th></th>\n",
       "      <th>MSSubClass</th>\n",
       "      <th>MSZoning</th>\n",
       "      <th>Street</th>\n",
       "      <th>Alley</th>\n",
       "      <th>LotShape</th>\n",
       "      <th>LandContour</th>\n",
       "      <th>Utilities</th>\n",
       "      <th>LotConfig</th>\n",
       "      <th>LandSlope</th>\n",
       "      <th>Neighborhood</th>\n",
       "      <th>...</th>\n",
       "      <th>GarageQual</th>\n",
       "      <th>GarageCond</th>\n",
       "      <th>PavedDrive</th>\n",
       "      <th>PoolQC</th>\n",
       "      <th>Fence</th>\n",
       "      <th>MiscFeature</th>\n",
       "      <th>MoSold</th>\n",
       "      <th>YrSold</th>\n",
       "      <th>SaleType</th>\n",
       "      <th>SaleCondition</th>\n",
       "    </tr>\n",
       "  </thead>\n",
       "  <tbody>\n",
       "    <tr>\n",
       "      <th>0</th>\n",
       "      <td>30</td>\n",
       "      <td>RL</td>\n",
       "      <td>Pave</td>\n",
       "      <td>None</td>\n",
       "      <td>Reg</td>\n",
       "      <td>Lvl</td>\n",
       "      <td>AllPub</td>\n",
       "      <td>Corner</td>\n",
       "      <td>Gtl</td>\n",
       "      <td>SWISU</td>\n",
       "      <td>...</td>\n",
       "      <td>TA</td>\n",
       "      <td>TA</td>\n",
       "      <td>Y</td>\n",
       "      <td>None</td>\n",
       "      <td>None</td>\n",
       "      <td>None</td>\n",
       "      <td>3</td>\n",
       "      <td>2010</td>\n",
       "      <td>WD</td>\n",
       "      <td>Normal</td>\n",
       "    </tr>\n",
       "    <tr>\n",
       "      <th>1</th>\n",
       "      <td>120</td>\n",
       "      <td>RL</td>\n",
       "      <td>Pave</td>\n",
       "      <td>None</td>\n",
       "      <td>Reg</td>\n",
       "      <td>Lvl</td>\n",
       "      <td>AllPub</td>\n",
       "      <td>Inside</td>\n",
       "      <td>Gtl</td>\n",
       "      <td>Edwards</td>\n",
       "      <td>...</td>\n",
       "      <td>TA</td>\n",
       "      <td>TA</td>\n",
       "      <td>Y</td>\n",
       "      <td>None</td>\n",
       "      <td>None</td>\n",
       "      <td>None</td>\n",
       "      <td>2</td>\n",
       "      <td>2009</td>\n",
       "      <td>WD</td>\n",
       "      <td>Normal</td>\n",
       "    </tr>\n",
       "  </tbody>\n",
       "</table>\n",
       "<p>2 rows × 48 columns</p>\n",
       "</div>"
      ],
      "text/plain": [
       "  MSSubClass MSZoning Street Alley LotShape LandContour Utilities LotConfig  \\\n",
       "0         30       RL   Pave  None      Reg         Lvl    AllPub    Corner   \n",
       "1        120       RL   Pave  None      Reg         Lvl    AllPub    Inside   \n",
       "\n",
       "  LandSlope Neighborhood  ... GarageQual GarageCond PavedDrive PoolQC Fence  \\\n",
       "0       Gtl        SWISU  ...         TA         TA          Y   None  None   \n",
       "1       Gtl      Edwards  ...         TA         TA          Y   None  None   \n",
       "\n",
       "  MiscFeature MoSold YrSold SaleType SaleCondition  \n",
       "0        None      3   2010      WD         Normal  \n",
       "1        None      2   2009      WD         Normal  \n",
       "\n",
       "[2 rows x 48 columns]"
      ]
     },
     "execution_count": 4,
     "metadata": {},
     "output_type": "execute_result"
    }
   ],
   "source": [
    "# define categorical features\n",
    "categorical_features = ames.select_dtypes(include=['object'])\n",
    "\n",
    "# define categorical features list\n",
    "categorical_features_list = categorical_features.columns\n",
    "\n",
    "# print number of categorical features and head of df\n",
    "print(f'number of categorical features: {len(categorical_features_list)}')\n",
    "categorical_features.head(2)"
   ]
  },
  {
   "cell_type": "markdown",
   "id": "c5c369dd-ae66-49c1-9559-c818b72a11f8",
   "metadata": {},
   "source": [
    "### Score categorical features individually\n",
    "\n",
    "Score the sfs-reduced numeric feature set with each categorical feature, individually, to see which ones are the most predictive"
   ]
  },
  {
   "cell_type": "code",
   "execution_count": 6,
   "id": "6aaf4fd9-0aa9-46dd-9e00-354ecc3cad73",
   "metadata": {},
   "outputs": [
    {
     "data": {
      "text/html": [
       "<div>\n",
       "<style scoped>\n",
       "    .dataframe tbody tr th:only-of-type {\n",
       "        vertical-align: middle;\n",
       "    }\n",
       "\n",
       "    .dataframe tbody tr th {\n",
       "        vertical-align: top;\n",
       "    }\n",
       "\n",
       "    .dataframe thead th {\n",
       "        text-align: right;\n",
       "    }\n",
       "</style>\n",
       "<table border=\"1\" class=\"dataframe\">\n",
       "  <thead>\n",
       "    <tr style=\"text-align: right;\">\n",
       "      <th></th>\n",
       "      <th>GrLivArea</th>\n",
       "      <th>YearBuilt</th>\n",
       "      <th>YearRemodAdd</th>\n",
       "      <th>BsmtUnfSF</th>\n",
       "      <th>TotalBsmtSF</th>\n",
       "      <th>KitchenAbvGr</th>\n",
       "      <th>Fireplaces</th>\n",
       "      <th>GarageArea</th>\n",
       "    </tr>\n",
       "  </thead>\n",
       "  <tbody>\n",
       "    <tr>\n",
       "      <th>0</th>\n",
       "      <td>856</td>\n",
       "      <td>1939</td>\n",
       "      <td>1950</td>\n",
       "      <td>618.0</td>\n",
       "      <td>856.0</td>\n",
       "      <td>1</td>\n",
       "      <td>1</td>\n",
       "      <td>399.0</td>\n",
       "    </tr>\n",
       "    <tr>\n",
       "      <th>1</th>\n",
       "      <td>1049</td>\n",
       "      <td>1984</td>\n",
       "      <td>1984</td>\n",
       "      <td>104.0</td>\n",
       "      <td>1049.0</td>\n",
       "      <td>1</td>\n",
       "      <td>0</td>\n",
       "      <td>266.0</td>\n",
       "    </tr>\n",
       "  </tbody>\n",
       "</table>\n",
       "</div>"
      ],
      "text/plain": [
       "   GrLivArea  YearBuilt  YearRemodAdd  BsmtUnfSF  TotalBsmtSF  KitchenAbvGr  \\\n",
       "0        856       1939          1950      618.0        856.0             1   \n",
       "1       1049       1984          1984      104.0       1049.0             1   \n",
       "\n",
       "   Fireplaces  GarageArea  \n",
       "0           1       399.0  \n",
       "1           0       266.0  "
      ]
     },
     "execution_count": 6,
     "metadata": {},
     "output_type": "execute_result"
    }
   ],
   "source": [
    "# define features for modeling\n",
    "X = sfs_numerical_features\n",
    "y = ames['SalePrice']\n",
    "X.head(2)"
   ]
  },
  {
   "cell_type": "code",
   "execution_count": 7,
   "id": "6702ec13-a88f-4ca9-936c-cdcba6d06a71",
   "metadata": {},
   "outputs": [
    {
     "data": {
      "text/plain": [
       "0.808555129023512"
      ]
     },
     "execution_count": 7,
     "metadata": {},
     "output_type": "execute_result"
    }
   ],
   "source": [
    "# Baseline score for sfs-reduced numeric features, no categorical features\n",
    "baseline_score = cross_val_score(LinearRegression(), X, y, cv=5).mean()\n",
    "baseline_score\n",
    "\n",
    "# with tol=None: 0.8227024972249994"
   ]
  },
  {
   "cell_type": "code",
   "execution_count": 8,
   "id": "5340eae7-c13b-49fa-b295-92506da1ce1a",
   "metadata": {},
   "outputs": [
    {
     "name": "stdout",
     "output_type": "stream",
     "text": [
      "MSSubClass: 0.8159 (+0.0073)\n",
      "MSZoning: 0.8082 (+-0.0004)\n",
      "Street: 0.8084 (+-0.0002)\n",
      "Alley: 0.8085 (+-0.0001)\n",
      "LotShape: 0.8093 (+0.0007)\n",
      "LandContour: 0.8144 (+0.0058)\n",
      "Utilities: 0.8086 (+0.0000)\n",
      "LotConfig: 0.8091 (+0.0006)\n"
     ]
    },
    {
     "name": "stderr",
     "output_type": "stream",
     "text": [
      "/opt/anaconda3/lib/python3.11/site-packages/sklearn/preprocessing/_encoders.py:202: UserWarning: Found unknown categories in columns [0] during transform. These unknown categories will be encoded as all zeros\n",
      "  warnings.warn(\n",
      "/opt/anaconda3/lib/python3.11/site-packages/sklearn/preprocessing/_encoders.py:202: UserWarning: Found unknown categories in columns [0] during transform. These unknown categories will be encoded as all zeros\n",
      "  warnings.warn(\n",
      "/opt/anaconda3/lib/python3.11/site-packages/sklearn/preprocessing/_encoders.py:202: UserWarning: Found unknown categories in columns [0] during transform. These unknown categories will be encoded as all zeros\n",
      "  warnings.warn(\n",
      "/opt/anaconda3/lib/python3.11/site-packages/sklearn/preprocessing/_encoders.py:202: UserWarning: Found unknown categories in columns [0] during transform. These unknown categories will be encoded as all zeros\n",
      "  warnings.warn(\n",
      "/opt/anaconda3/lib/python3.11/site-packages/sklearn/preprocessing/_encoders.py:202: UserWarning: Found unknown categories in columns [0] during transform. These unknown categories will be encoded as all zeros\n",
      "  warnings.warn(\n"
     ]
    },
    {
     "name": "stdout",
     "output_type": "stream",
     "text": [
      "LandSlope: 0.8088 (+0.0002)\n",
      "Neighborhood: 0.8471 (+0.0386)\n",
      "Condition1: 0.8095 (+0.0009)\n",
      "Condition2: 0.8046 (+-0.0039)\n",
      "BldgType: 0.8105 (+0.0019)\n",
      "HouseStyle: 0.8079 (+-0.0006)\n",
      "OverallQual: 0.8780 (+0.0694)\n",
      "OverallCond: 0.8146 (+0.0061)\n",
      "RoofStyle: 0.8096 (+0.0011)\n",
      "RoofMatl: 0.8117 (+0.0031)\n",
      "Exterior1st: 0.8141 (+0.0056)\n"
     ]
    },
    {
     "name": "stderr",
     "output_type": "stream",
     "text": [
      "/opt/anaconda3/lib/python3.11/site-packages/sklearn/preprocessing/_encoders.py:202: UserWarning: Found unknown categories in columns [0] during transform. These unknown categories will be encoded as all zeros\n",
      "  warnings.warn(\n",
      "/opt/anaconda3/lib/python3.11/site-packages/sklearn/preprocessing/_encoders.py:202: UserWarning: Found unknown categories in columns [0] during transform. These unknown categories will be encoded as all zeros\n",
      "  warnings.warn(\n",
      "/opt/anaconda3/lib/python3.11/site-packages/sklearn/preprocessing/_encoders.py:202: UserWarning: Found unknown categories in columns [0] during transform. These unknown categories will be encoded as all zeros\n",
      "  warnings.warn(\n",
      "/opt/anaconda3/lib/python3.11/site-packages/sklearn/preprocessing/_encoders.py:202: UserWarning: Found unknown categories in columns [0] during transform. These unknown categories will be encoded as all zeros\n",
      "  warnings.warn(\n",
      "/opt/anaconda3/lib/python3.11/site-packages/sklearn/preprocessing/_encoders.py:202: UserWarning: Found unknown categories in columns [0] during transform. These unknown categories will be encoded as all zeros\n",
      "  warnings.warn(\n",
      "/opt/anaconda3/lib/python3.11/site-packages/sklearn/preprocessing/_encoders.py:202: UserWarning: Found unknown categories in columns [0] during transform. These unknown categories will be encoded as all zeros\n",
      "  warnings.warn(\n",
      "/opt/anaconda3/lib/python3.11/site-packages/sklearn/preprocessing/_encoders.py:202: UserWarning: Found unknown categories in columns [0] during transform. These unknown categories will be encoded as all zeros\n",
      "  warnings.warn(\n",
      "/opt/anaconda3/lib/python3.11/site-packages/sklearn/preprocessing/_encoders.py:202: UserWarning: Found unknown categories in columns [0] during transform. These unknown categories will be encoded as all zeros\n",
      "  warnings.warn(\n",
      "/opt/anaconda3/lib/python3.11/site-packages/sklearn/preprocessing/_encoders.py:202: UserWarning: Found unknown categories in columns [0] during transform. These unknown categories will be encoded as all zeros\n",
      "  warnings.warn(\n"
     ]
    },
    {
     "name": "stdout",
     "output_type": "stream",
     "text": [
      "Exterior2nd: 0.8127 (+0.0041)\n",
      "MasVnrType: 0.8098 (+0.0012)\n",
      "ExterQual: 0.8442 (+0.0356)\n",
      "ExterCond: 0.8079 (+-0.0007)\n",
      "Foundation: 0.8158 (+0.0072)\n",
      "BsmtQual: 0.8415 (+0.0329)\n",
      "BsmtCond: 0.8128 (+0.0042)\n",
      "BsmtExposure: 0.8223 (+0.0137)\n",
      "BsmtFinType1: 0.8194 (+0.0109)\n",
      "BsmtFinType2: 0.8155 (+0.0070)\n",
      "Heating: 0.8099 (+0.0013)\n",
      "HeatingQC: 0.8131 (+0.0045)\n",
      "CentralAir: 0.8093 (+0.0008)\n",
      "Electrical: 0.8092 (+0.0007)\n",
      "KitchenQual: 0.8417 (+0.0331)\n"
     ]
    },
    {
     "name": "stderr",
     "output_type": "stream",
     "text": [
      "/opt/anaconda3/lib/python3.11/site-packages/sklearn/preprocessing/_encoders.py:202: UserWarning: Found unknown categories in columns [0] during transform. These unknown categories will be encoded as all zeros\n",
      "  warnings.warn(\n",
      "/opt/anaconda3/lib/python3.11/site-packages/sklearn/preprocessing/_encoders.py:202: UserWarning: Found unknown categories in columns [0] during transform. These unknown categories will be encoded as all zeros\n",
      "  warnings.warn(\n",
      "/opt/anaconda3/lib/python3.11/site-packages/sklearn/preprocessing/_encoders.py:202: UserWarning: Found unknown categories in columns [0] during transform. These unknown categories will be encoded as all zeros\n",
      "  warnings.warn(\n",
      "/opt/anaconda3/lib/python3.11/site-packages/sklearn/preprocessing/_encoders.py:202: UserWarning: Found unknown categories in columns [0] during transform. These unknown categories will be encoded as all zeros\n",
      "  warnings.warn(\n",
      "/opt/anaconda3/lib/python3.11/site-packages/sklearn/preprocessing/_encoders.py:202: UserWarning: Found unknown categories in columns [0] during transform. These unknown categories will be encoded as all zeros\n",
      "  warnings.warn(\n"
     ]
    },
    {
     "name": "stdout",
     "output_type": "stream",
     "text": [
      "Functional: 0.8157 (+0.0071)\n",
      "FireplaceQu: 0.8163 (+0.0077)\n",
      "GarageType: 0.8108 (+0.0022)\n",
      "GarageFinish: 0.8127 (+0.0041)\n",
      "GarageQual: 0.8105 (+0.0019)\n",
      "GarageCond: 0.8100 (+0.0014)\n",
      "PavedDrive: 0.8089 (+0.0003)\n",
      "PoolQC: 0.8073 (+-0.0013)\n",
      "Fence: 0.8088 (+0.0002)\n",
      "MiscFeature: 0.8084 (+-0.0002)\n",
      "MoSold: 0.8082 (+-0.0004)\n",
      "YrSold: 0.8084 (+-0.0001)\n",
      "SaleType: 0.8087 (+0.0001)\n",
      "SaleCondition: 0.8125 (+0.0039)\n"
     ]
    },
    {
     "name": "stderr",
     "output_type": "stream",
     "text": [
      "/opt/anaconda3/lib/python3.11/site-packages/sklearn/preprocessing/_encoders.py:202: UserWarning: Found unknown categories in columns [0] during transform. These unknown categories will be encoded as all zeros\n",
      "  warnings.warn(\n"
     ]
    }
   ],
   "source": [
    "categorical_improvements = {}\n",
    "for cat_feature in categorical_features_list:\n",
    "    # Test numeric feature set + this categorical\n",
    "    test_features = sfs_numerical_features_list + [cat_feature]\n",
    "    \n",
    "    # preprocess this combination\n",
    "    preprocessor = ColumnTransformer([\n",
    "        ('num', 'passthrough', sfs_numerical_features_list),\n",
    "        ('cat', OneHotEncoder(drop='first', handle_unknown='ignore', sparse_output=False), [cat_feature])\n",
    "    ])\n",
    "    \n",
    "    model = Pipeline([\n",
    "        ('preprocessor', preprocessor),\n",
    "        ('regressor', LinearRegression())\n",
    "    ])\n",
    "    \n",
    "    score = cross_val_score(model, ames[test_features], y, cv=5).mean()\n",
    "    improvement = score - baseline_score\n",
    "    \n",
    "    categorical_improvements[cat_feature] = improvement\n",
    "    print(f\"{cat_feature}: {score:.4f} (+{improvement:.4f})\")"
   ]
  },
  {
   "cell_type": "code",
   "execution_count": 9,
   "id": "3652b7fe-a1a1-4bce-aac3-54db684c7f23",
   "metadata": {},
   "outputs": [
    {
     "name": "stdout",
     "output_type": "stream",
     "text": [
      "\n",
      "Best categorical features to add to sfs-reduced numeric features:\n",
      "OverallQual: +0.0694\n",
      "Neighborhood: +0.0386\n",
      "ExterQual: +0.0356\n",
      "KitchenQual: +0.0331\n",
      "BsmtQual: +0.0329\n",
      "BsmtExposure: +0.0137\n",
      "BsmtFinType1: +0.0109\n",
      "FireplaceQu: +0.0077\n",
      "MSSubClass: +0.0073\n",
      "Foundation: +0.0072\n",
      "Functional: +0.0071\n",
      "BsmtFinType2: +0.0070\n",
      "OverallCond: +0.0061\n",
      "LandContour: +0.0058\n",
      "Exterior1st: +0.0056\n",
      "HeatingQC: +0.0045\n",
      "BsmtCond: +0.0042\n",
      "GarageFinish: +0.0041\n",
      "Exterior2nd: +0.0041\n",
      "SaleCondition: +0.0039\n",
      "RoofMatl: +0.0031\n",
      "GarageType: +0.0022\n",
      "GarageQual: +0.0019\n",
      "BldgType: +0.0019\n",
      "GarageCond: +0.0014\n"
     ]
    }
   ],
   "source": [
    "# sort improvements\n",
    "sorted_cats = sorted(categorical_improvements.items(), key=lambda x: x[1], reverse=True)\n",
    "print(f\"\\nBest categorical features to add to sfs-reduced numeric features:\")\n",
    "for cat, improvement in sorted_cats[:25]:\n",
    "    print(f\"{cat}: +{improvement:.4f}\")"
   ]
  },
  {
   "cell_type": "code",
   "execution_count": 10,
   "id": "d1abbc8f-6e81-4ab3-95a7-d89cd2168541",
   "metadata": {},
   "outputs": [],
   "source": [
    "# define list of most predictive categorical features\n",
    "best_cat_list = [\n",
    "    'OverallQual',\n",
    "    'Neighborhood',\n",
    "    'ExterQual',\n",
    "    'KitchenQual',\n",
    "    'BsmtQual',\n",
    "    'BsmtExposure',\n",
    "    'BsmtFinType1',\n",
    "    'FireplaceQu',\n",
    "    'MSSubClass',\n",
    "    'Foundation',\n",
    "    'Functional',\n",
    "    'BsmtFinType2',\n",
    "    'OverallCond',\n",
    "    'LandContour',\n",
    "    'Exterior1st',\n",
    "    'HeatingQC',\n",
    "    'BsmtCond',\n",
    "    # 'GarageFinish',\n",
    "    # 'Exterior2nd',\n",
    "     'SaleCondition',\n",
    "    # 'RoofMatl',\n",
    "    # 'GarageType',\n",
    "    # 'GarageQual',\n",
    "    # 'BldgType',\n",
    "    # 'GarageCond'\n",
    "]"
   ]
  },
  {
   "cell_type": "code",
   "execution_count": 11,
   "id": "60159c16-17a5-4160-9e91-065fe67ad40e",
   "metadata": {},
   "outputs": [
    {
     "data": {
      "text/html": [
       "<div>\n",
       "<style scoped>\n",
       "    .dataframe tbody tr th:only-of-type {\n",
       "        vertical-align: middle;\n",
       "    }\n",
       "\n",
       "    .dataframe tbody tr th {\n",
       "        vertical-align: top;\n",
       "    }\n",
       "\n",
       "    .dataframe thead th {\n",
       "        text-align: right;\n",
       "    }\n",
       "</style>\n",
       "<table border=\"1\" class=\"dataframe\">\n",
       "  <thead>\n",
       "    <tr style=\"text-align: right;\">\n",
       "      <th></th>\n",
       "      <th>OverallQual</th>\n",
       "      <th>Neighborhood</th>\n",
       "      <th>ExterQual</th>\n",
       "      <th>KitchenQual</th>\n",
       "      <th>BsmtQual</th>\n",
       "      <th>BsmtExposure</th>\n",
       "      <th>BsmtFinType1</th>\n",
       "      <th>FireplaceQu</th>\n",
       "      <th>MSSubClass</th>\n",
       "      <th>Foundation</th>\n",
       "      <th>Functional</th>\n",
       "      <th>BsmtFinType2</th>\n",
       "      <th>OverallCond</th>\n",
       "      <th>LandContour</th>\n",
       "      <th>Exterior1st</th>\n",
       "      <th>HeatingQC</th>\n",
       "      <th>BsmtCond</th>\n",
       "      <th>SaleCondition</th>\n",
       "    </tr>\n",
       "  </thead>\n",
       "  <tbody>\n",
       "    <tr>\n",
       "      <th>0</th>\n",
       "      <td>6</td>\n",
       "      <td>SWISU</td>\n",
       "      <td>TA</td>\n",
       "      <td>TA</td>\n",
       "      <td>TA</td>\n",
       "      <td>No</td>\n",
       "      <td>Rec</td>\n",
       "      <td>Gd</td>\n",
       "      <td>30</td>\n",
       "      <td>CBlock</td>\n",
       "      <td>Typ</td>\n",
       "      <td>Unf</td>\n",
       "      <td>6</td>\n",
       "      <td>Lvl</td>\n",
       "      <td>Wd Sdng</td>\n",
       "      <td>TA</td>\n",
       "      <td>TA</td>\n",
       "      <td>Normal</td>\n",
       "    </tr>\n",
       "    <tr>\n",
       "      <th>1</th>\n",
       "      <td>5</td>\n",
       "      <td>Edwards</td>\n",
       "      <td>Gd</td>\n",
       "      <td>Gd</td>\n",
       "      <td>Gd</td>\n",
       "      <td>Mn</td>\n",
       "      <td>GLQ</td>\n",
       "      <td>None</td>\n",
       "      <td>120</td>\n",
       "      <td>CBlock</td>\n",
       "      <td>Typ</td>\n",
       "      <td>ALQ</td>\n",
       "      <td>5</td>\n",
       "      <td>Lvl</td>\n",
       "      <td>HdBoard</td>\n",
       "      <td>TA</td>\n",
       "      <td>TA</td>\n",
       "      <td>Normal</td>\n",
       "    </tr>\n",
       "  </tbody>\n",
       "</table>\n",
       "</div>"
      ],
      "text/plain": [
       "  OverallQual Neighborhood ExterQual KitchenQual BsmtQual BsmtExposure  \\\n",
       "0           6        SWISU        TA          TA       TA           No   \n",
       "1           5      Edwards        Gd          Gd       Gd           Mn   \n",
       "\n",
       "  BsmtFinType1 FireplaceQu MSSubClass Foundation Functional BsmtFinType2  \\\n",
       "0          Rec          Gd         30     CBlock        Typ          Unf   \n",
       "1          GLQ        None        120     CBlock        Typ          ALQ   \n",
       "\n",
       "  OverallCond LandContour Exterior1st HeatingQC BsmtCond SaleCondition  \n",
       "0           6         Lvl     Wd Sdng        TA       TA        Normal  \n",
       "1           5         Lvl     HdBoard        TA       TA        Normal  "
      ]
     },
     "execution_count": 11,
     "metadata": {},
     "output_type": "execute_result"
    }
   ],
   "source": [
    "best_cat_df = ames[best_cat_list]\n",
    "best_cat_df.head(2)"
   ]
  },
  {
   "cell_type": "code",
   "execution_count": 12,
   "id": "30d39805-4330-4561-aceb-44d582bcaa0e",
   "metadata": {},
   "outputs": [
    {
     "data": {
      "text/html": [
       "<div>\n",
       "<style scoped>\n",
       "    .dataframe tbody tr th:only-of-type {\n",
       "        vertical-align: middle;\n",
       "    }\n",
       "\n",
       "    .dataframe tbody tr th {\n",
       "        vertical-align: top;\n",
       "    }\n",
       "\n",
       "    .dataframe thead th {\n",
       "        text-align: right;\n",
       "    }\n",
       "</style>\n",
       "<table border=\"1\" class=\"dataframe\">\n",
       "  <thead>\n",
       "    <tr style=\"text-align: right;\">\n",
       "      <th></th>\n",
       "      <th>GrLivArea</th>\n",
       "      <th>YearBuilt</th>\n",
       "      <th>YearRemodAdd</th>\n",
       "      <th>BsmtUnfSF</th>\n",
       "      <th>TotalBsmtSF</th>\n",
       "      <th>KitchenAbvGr</th>\n",
       "      <th>Fireplaces</th>\n",
       "      <th>GarageArea</th>\n",
       "      <th>OverallQual</th>\n",
       "      <th>Neighborhood</th>\n",
       "      <th>...</th>\n",
       "      <th>MSSubClass</th>\n",
       "      <th>Foundation</th>\n",
       "      <th>Functional</th>\n",
       "      <th>BsmtFinType2</th>\n",
       "      <th>OverallCond</th>\n",
       "      <th>LandContour</th>\n",
       "      <th>Exterior1st</th>\n",
       "      <th>HeatingQC</th>\n",
       "      <th>BsmtCond</th>\n",
       "      <th>SaleCondition</th>\n",
       "    </tr>\n",
       "  </thead>\n",
       "  <tbody>\n",
       "    <tr>\n",
       "      <th>0</th>\n",
       "      <td>856</td>\n",
       "      <td>1939</td>\n",
       "      <td>1950</td>\n",
       "      <td>618.0</td>\n",
       "      <td>856.0</td>\n",
       "      <td>1</td>\n",
       "      <td>1</td>\n",
       "      <td>399.0</td>\n",
       "      <td>6</td>\n",
       "      <td>SWISU</td>\n",
       "      <td>...</td>\n",
       "      <td>30</td>\n",
       "      <td>CBlock</td>\n",
       "      <td>Typ</td>\n",
       "      <td>Unf</td>\n",
       "      <td>6</td>\n",
       "      <td>Lvl</td>\n",
       "      <td>Wd Sdng</td>\n",
       "      <td>TA</td>\n",
       "      <td>TA</td>\n",
       "      <td>Normal</td>\n",
       "    </tr>\n",
       "    <tr>\n",
       "      <th>1</th>\n",
       "      <td>1049</td>\n",
       "      <td>1984</td>\n",
       "      <td>1984</td>\n",
       "      <td>104.0</td>\n",
       "      <td>1049.0</td>\n",
       "      <td>1</td>\n",
       "      <td>0</td>\n",
       "      <td>266.0</td>\n",
       "      <td>5</td>\n",
       "      <td>Edwards</td>\n",
       "      <td>...</td>\n",
       "      <td>120</td>\n",
       "      <td>CBlock</td>\n",
       "      <td>Typ</td>\n",
       "      <td>ALQ</td>\n",
       "      <td>5</td>\n",
       "      <td>Lvl</td>\n",
       "      <td>HdBoard</td>\n",
       "      <td>TA</td>\n",
       "      <td>TA</td>\n",
       "      <td>Normal</td>\n",
       "    </tr>\n",
       "  </tbody>\n",
       "</table>\n",
       "<p>2 rows × 26 columns</p>\n",
       "</div>"
      ],
      "text/plain": [
       "   GrLivArea  YearBuilt  YearRemodAdd  BsmtUnfSF  TotalBsmtSF  KitchenAbvGr  \\\n",
       "0        856       1939          1950      618.0        856.0             1   \n",
       "1       1049       1984          1984      104.0       1049.0             1   \n",
       "\n",
       "   Fireplaces  GarageArea OverallQual Neighborhood  ... MSSubClass Foundation  \\\n",
       "0           1       399.0           6        SWISU  ...         30     CBlock   \n",
       "1           0       266.0           5      Edwards  ...        120     CBlock   \n",
       "\n",
       "  Functional BsmtFinType2 OverallCond LandContour Exterior1st HeatingQC  \\\n",
       "0        Typ          Unf           6         Lvl     Wd Sdng        TA   \n",
       "1        Typ          ALQ           5         Lvl     HdBoard        TA   \n",
       "\n",
       "  BsmtCond SaleCondition  \n",
       "0       TA        Normal  \n",
       "1       TA        Normal  \n",
       "\n",
       "[2 rows x 26 columns]"
      ]
     },
     "execution_count": 12,
     "metadata": {},
     "output_type": "execute_result"
    }
   ],
   "source": [
    "# create dataframe with sfs-reduced numerical features and these best categorical features\n",
    "X_reduced = sfs_numerical_features.join(best_cat_df)\n",
    "X_reduced.head(2)"
   ]
  },
  {
   "cell_type": "code",
   "execution_count": 13,
   "id": "e2a4d3df-09ff-4d4e-be96-3c55bad9fadb",
   "metadata": {},
   "outputs": [],
   "source": [
    "# define target\n",
    "y = ames['SalePrice']"
   ]
  },
  {
   "cell_type": "code",
   "execution_count": 14,
   "id": "908cc861-bd6f-44e4-933a-c53513623294",
   "metadata": {},
   "outputs": [],
   "source": [
    "# define preprocessor\n",
    "preprocessor = ColumnTransformer(\n",
    "    transformers=[\n",
    "        ('numerical', 'passthrough', sfs_numerical_features_list),\n",
    "        ('onehot', OneHotEncoder(drop='first', sparse_output=False, handle_unknown='ignore'), best_cat_list)\n",
    "])"
   ]
  },
  {
   "cell_type": "code",
   "execution_count": 15,
   "id": "3d470902-2e8f-4307-8f3b-4faaaba0caf2",
   "metadata": {},
   "outputs": [],
   "source": [
    "# fit the model\n",
    "model = Pipeline(\n",
    "    steps=[\n",
    "        ('preprocessor', preprocessor),\n",
    "        ('regressor', LinearRegression())\n",
    "    ])"
   ]
  },
  {
   "cell_type": "code",
   "execution_count": 16,
   "id": "368862d8-becf-428b-8f7c-c93c186f268a",
   "metadata": {},
   "outputs": [
    {
     "name": "stderr",
     "output_type": "stream",
     "text": [
      "/opt/anaconda3/lib/python3.11/site-packages/sklearn/preprocessing/_encoders.py:202: UserWarning: Found unknown categories in columns [3, 10, 14] during transform. These unknown categories will be encoded as all zeros\n",
      "  warnings.warn(\n",
      "/opt/anaconda3/lib/python3.11/site-packages/sklearn/preprocessing/_encoders.py:202: UserWarning: Found unknown categories in columns [15] during transform. These unknown categories will be encoded as all zeros\n",
      "  warnings.warn(\n",
      "/opt/anaconda3/lib/python3.11/site-packages/sklearn/preprocessing/_encoders.py:202: UserWarning: Found unknown categories in columns [1, 14] during transform. These unknown categories will be encoded as all zeros\n",
      "  warnings.warn(\n",
      "/opt/anaconda3/lib/python3.11/site-packages/sklearn/preprocessing/_encoders.py:202: UserWarning: Found unknown categories in columns [8, 14] during transform. These unknown categories will be encoded as all zeros\n",
      "  warnings.warn(\n",
      "/opt/anaconda3/lib/python3.11/site-packages/sklearn/preprocessing/_encoders.py:202: UserWarning: Found unknown categories in columns [14, 15] during transform. These unknown categories will be encoded as all zeros\n",
      "  warnings.warn(\n",
      "/opt/anaconda3/lib/python3.11/site-packages/sklearn/preprocessing/_encoders.py:202: UserWarning: Found unknown categories in columns [14] during transform. These unknown categories will be encoded as all zeros\n",
      "  warnings.warn(\n",
      "/opt/anaconda3/lib/python3.11/site-packages/sklearn/preprocessing/_encoders.py:202: UserWarning: Found unknown categories in columns [3, 8, 10, 14] during transform. These unknown categories will be encoded as all zeros\n",
      "  warnings.warn(\n",
      "/opt/anaconda3/lib/python3.11/site-packages/sklearn/preprocessing/_encoders.py:202: UserWarning: Found unknown categories in columns [1, 4] during transform. These unknown categories will be encoded as all zeros\n",
      "  warnings.warn(\n",
      "/opt/anaconda3/lib/python3.11/site-packages/sklearn/preprocessing/_encoders.py:202: UserWarning: Found unknown categories in columns [1] during transform. These unknown categories will be encoded as all zeros\n",
      "  warnings.warn(\n",
      "/opt/anaconda3/lib/python3.11/site-packages/sklearn/preprocessing/_encoders.py:202: UserWarning: Found unknown categories in columns [1, 10, 14, 16] during transform. These unknown categories will be encoded as all zeros\n",
      "  warnings.warn(\n"
     ]
    },
    {
     "name": "stdout",
     "output_type": "stream",
     "text": [
      "cv scores [0.88020979 0.91697339 0.9250048  0.926936   0.92584238]\n"
     ]
    },
    {
     "name": "stderr",
     "output_type": "stream",
     "text": [
      "/opt/anaconda3/lib/python3.11/site-packages/sklearn/preprocessing/_encoders.py:202: UserWarning: Found unknown categories in columns [8] during transform. These unknown categories will be encoded as all zeros\n",
      "  warnings.warn(\n",
      "/opt/anaconda3/lib/python3.11/site-packages/sklearn/preprocessing/_encoders.py:202: UserWarning: Found unknown categories in columns [14, 17] during transform. These unknown categories will be encoded as all zeros\n",
      "  warnings.warn(\n",
      "/opt/anaconda3/lib/python3.11/site-packages/sklearn/preprocessing/_encoders.py:202: UserWarning: Found unknown categories in columns [4] during transform. These unknown categories will be encoded as all zeros\n",
      "  warnings.warn(\n"
     ]
    }
   ],
   "source": [
    "# create storage\n",
    "results = {}\n",
    "\n",
    "# fit and evaluate the model on all data and score\n",
    "model.fit(X_reduced, np.log10(y))\n",
    "cv_scores = cross_val_score(model, X_reduced, np.log10(y))\n",
    "mean_cv_score = float(round(cv_scores.mean(), 4))\n",
    "\n",
    "# evaluate on train-test for overfitting analysis\n",
    "X_train, X_test, y_train, y_test = train_test_split(X_reduced, np.log10(y), test_size=0.2, random_state = 0)\n",
    "\n",
    "model.fit(X_train, y_train)\n",
    "train_score = (cross_val_score(model, X_train, y_train)).mean()\n",
    "test_score = (cross_val_score(model, X_test, y_test)).mean()\n",
    "diff = train_score - test_score\n",
    "\n",
    "results = {\n",
    "    'mean-cv on X and y': round(mean_cv_score, 4),\n",
    "    'train score': round(train_score, 4),\n",
    "    'test score': round(test_score, 4),\n",
    "    'train-test gap': round(diff, 4),\n",
    "    'scenario': f'log-linear 8/{len(best_cat_df.columns)} model:',\n",
    "    'algorithm': 'MLR'\n",
    "}\n",
    "\n",
    "print(f'cv scores', cv_scores)"
   ]
  },
  {
   "cell_type": "code",
   "execution_count": 17,
   "id": "69829a7e-8475-4523-98b4-b8e953597332",
   "metadata": {},
   "outputs": [
    {
     "data": {
      "text/plain": [
       "{'mean-cv on X and y': 0.915,\n",
       " 'train score': 0.9126,\n",
       " 'test score': 0.8293,\n",
       " 'train-test gap': 0.0834,\n",
       " 'scenario': 'log-linear 8/18 model:',\n",
       " 'algorithm': 'MLR'}"
      ]
     },
     "execution_count": 17,
     "metadata": {},
     "output_type": "execute_result"
    }
   ],
   "source": [
    "results"
   ]
  },
  {
   "cell_type": "markdown",
   "id": "1a04c8b0-dab4-4510-8915-fa840febaab2",
   "metadata": {},
   "source": [
    "**Notes:** mean cv scores for sfs selected features with tol=0.005\n",
    "- 8/10\n",
    "- 8/15: 0.9123\n",
    "- 8/17: 0.913\n",
    "- 8/18: 0.913 (0.915 with SaleCondition instead of BsmtCond)\n",
    "- 8/19: 0.9113\n",
    "- 8/20: 0.9134\n",
    "- 8/21: 0.913\n",
    "- 8/22: 0.9128\n",
    "- 8/25: 0.913\n",
    "\n",
    "mean cv scores for sfs selected features with tol=None\n",
    "- 15/7  : 0.901\n",
    "- 15/10 : 0.9129\n",
    "- 15/12 : 0.9153\n",
    "- 15/15 : 0.9156\n",
    "- 15/20 : 0.9153\n",
    "- 15/25 : 0.9148"
   ]
  },
  {
   "cell_type": "code",
   "execution_count": 19,
   "id": "d9ea89d3-129a-4835-9f89-1b8814d10d4f",
   "metadata": {},
   "outputs": [],
   "source": [
    "results_df = pd.DataFrame([results])"
   ]
  },
  {
   "cell_type": "code",
   "execution_count": 20,
   "id": "7f2171f0-4b7f-4355-b4fa-1653f8d35bb3",
   "metadata": {},
   "outputs": [],
   "source": [
    "# double check this, if changed ratio of numerical to categorical features\n",
    "results_df.to_csv('log_linear_8_18.csv')"
   ]
  },
  {
   "cell_type": "code",
   "execution_count": null,
   "id": "2cb936e8-5df9-4ee9-aa9f-e987b4fbbde0",
   "metadata": {},
   "outputs": [],
   "source": []
  },
  {
   "cell_type": "code",
   "execution_count": null,
   "id": "ac71d8b1-30d4-4c2c-8608-3d8cd33b83a6",
   "metadata": {},
   "outputs": [],
   "source": []
  },
  {
   "cell_type": "code",
   "execution_count": null,
   "id": "2ab8a8c7-1729-4d2a-8426-b4b969a47262",
   "metadata": {},
   "outputs": [],
   "source": []
  },
  {
   "cell_type": "code",
   "execution_count": null,
   "id": "ba867d3a-d3ba-4567-9f32-75e7282b0a6a",
   "metadata": {},
   "outputs": [],
   "source": []
  },
  {
   "cell_type": "code",
   "execution_count": null,
   "id": "b72a5726-5270-4de5-9049-2b045f2303b1",
   "metadata": {},
   "outputs": [],
   "source": []
  },
  {
   "cell_type": "code",
   "execution_count": null,
   "id": "9976dafe-f539-4063-9190-c4e5bc0debff",
   "metadata": {},
   "outputs": [],
   "source": []
  },
  {
   "cell_type": "code",
   "execution_count": null,
   "id": "920fac51-a6c0-451a-bc9b-b0a4f1737d0f",
   "metadata": {},
   "outputs": [],
   "source": []
  },
  {
   "cell_type": "markdown",
   "id": "4b772d70-7e13-4b87-b76c-111ca7768022",
   "metadata": {},
   "source": [
    "# Resources\n",
    "[Return To Top](#Contents)\n",
    "\n",
    "**Dean De Cock paper and original data:**\n",
    "\n",
    "- [Ames, Iowa: Alternative to the Boston Housing Data as an\n",
    "End of Semester Regression Project](https://jse.amstat.org/v19n3/decock.pdf)\n",
    "\n",
    "- [DataDocumentation.txt](https://jse.amstat.org/v19n3/decock/DataDocumentation.txt)\n",
    "\n",
    "- [Ames Data Dictionary on Github](https://github.com/Padre-Media/dataset/blob/main/Ames%20Data%20Dictionary.txt)"
   ]
  }
 ],
 "metadata": {
  "kernelspec": {
   "display_name": "Python 3 (ipykernel)",
   "language": "python",
   "name": "python3"
  },
  "language_info": {
   "codemirror_mode": {
    "name": "ipython",
    "version": 3
   },
   "file_extension": ".py",
   "mimetype": "text/x-python",
   "name": "python",
   "nbconvert_exporter": "python",
   "pygments_lexer": "ipython3",
   "version": "3.11.7"
  }
 },
 "nbformat": 4,
 "nbformat_minor": 5
}
