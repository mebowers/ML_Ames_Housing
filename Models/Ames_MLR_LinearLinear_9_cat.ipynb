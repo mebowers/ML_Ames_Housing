{
 "cells": [
  {
   "cell_type": "markdown",
   "id": "055e56bb-5515-453a-ad89-1b3ee8f07b1f",
   "metadata": {},
   "source": [
    "# **MLR linear-linear 9/cat model:**\n",
    "\n",
    "linear-linear model with 9 numeric feautures reduced by SequentialFeatureSelector with **tol=0.005**, combined with top categorical features scored against them.  "
   ]
  },
  {
   "cell_type": "code",
   "execution_count": 2,
   "id": "20646d3e-b7c0-4e90-9cb5-f33eb9bafd54",
   "metadata": {
    "scrolled": true
   },
   "outputs": [],
   "source": [
    "# libraries\n",
    "import pandas as pd\n",
    "import numpy as np\n",
    "import matplotlib.pyplot as plt\n",
    "import seaborn as sns\n",
    "from sklearn.impute import SimpleImputer\n",
    "from sklearn.preprocessing import StandardScaler, OrdinalEncoder, OneHotEncoder\n",
    "from sklearn.pipeline import Pipeline\n",
    "from sklearn.compose import ColumnTransformer\n",
    "from sklearn.model_selection import cross_val_score, train_test_split, KFold\n",
    "from sklearn.linear_model import LinearRegression\n",
    "from sklearn.feature_selection import SequentialFeatureSelector\n",
    "\n",
    "# Import raw data, if needed for comparison.\n",
    "ames_raw = pd.read_csv('Ames_Housing_Price_Data.csv', index_col=0).reset_index()\n",
    "ames_raw.drop(columns=['index'], inplace=True)\n",
    "ames_raw.head(2)\n",
    "\n",
    "# Import cleaned data for modeling\n",
    "ames = pd.read_pickle('ames_clean.pkl')"
   ]
  },
  {
   "cell_type": "code",
   "execution_count": 3,
   "id": "7a953b6b-110b-4476-b1b0-440d32e27bd1",
   "metadata": {
    "scrolled": true
   },
   "outputs": [
    {
     "name": "stdout",
     "output_type": "stream",
     "text": [
      "number of sfs-reduced numerical features (without target): 9\n"
     ]
    },
    {
     "data": {
      "text/html": [
       "<div>\n",
       "<style scoped>\n",
       "    .dataframe tbody tr th:only-of-type {\n",
       "        vertical-align: middle;\n",
       "    }\n",
       "\n",
       "    .dataframe tbody tr th {\n",
       "        vertical-align: top;\n",
       "    }\n",
       "\n",
       "    .dataframe thead th {\n",
       "        text-align: right;\n",
       "    }\n",
       "</style>\n",
       "<table border=\"1\" class=\"dataframe\">\n",
       "  <thead>\n",
       "    <tr style=\"text-align: right;\">\n",
       "      <th></th>\n",
       "      <th>GrLivArea</th>\n",
       "      <th>YearBuilt</th>\n",
       "      <th>YearRemodAdd</th>\n",
       "      <th>MasVnrArea</th>\n",
       "      <th>BsmtFinSF1</th>\n",
       "      <th>TotalBsmtSF</th>\n",
       "      <th>BedroomAbvGr</th>\n",
       "      <th>KitchenAbvGr</th>\n",
       "      <th>GarageArea</th>\n",
       "    </tr>\n",
       "  </thead>\n",
       "  <tbody>\n",
       "    <tr>\n",
       "      <th>0</th>\n",
       "      <td>856</td>\n",
       "      <td>1939</td>\n",
       "      <td>1950</td>\n",
       "      <td>0.0</td>\n",
       "      <td>238.0</td>\n",
       "      <td>856.0</td>\n",
       "      <td>2</td>\n",
       "      <td>1</td>\n",
       "      <td>399.0</td>\n",
       "    </tr>\n",
       "    <tr>\n",
       "      <th>1</th>\n",
       "      <td>1049</td>\n",
       "      <td>1984</td>\n",
       "      <td>1984</td>\n",
       "      <td>149.0</td>\n",
       "      <td>552.0</td>\n",
       "      <td>1049.0</td>\n",
       "      <td>2</td>\n",
       "      <td>1</td>\n",
       "      <td>266.0</td>\n",
       "    </tr>\n",
       "  </tbody>\n",
       "</table>\n",
       "</div>"
      ],
      "text/plain": [
       "   GrLivArea  YearBuilt  YearRemodAdd  MasVnrArea  BsmtFinSF1  TotalBsmtSF  \\\n",
       "0        856       1939          1950         0.0       238.0        856.0   \n",
       "1       1049       1984          1984       149.0       552.0       1049.0   \n",
       "\n",
       "   BedroomAbvGr  KitchenAbvGr  GarageArea  \n",
       "0             2             1       399.0  \n",
       "1             2             1       266.0  "
      ]
     },
     "execution_count": 3,
     "metadata": {},
     "output_type": "execute_result"
    }
   ],
   "source": [
    "# define numerical features list as determined by sfs in Ames_MLR_LinearLinear_sfs.ipynb\n",
    "# # with tol=None\n",
    "# sfs_numerical_features_list = ['GrLivArea', 'LotFrontage', 'LotArea', 'YearBuilt', 'YearRemodAdd',\n",
    "#        'MasVnrArea', 'BsmtFinSF1', 'TotalBsmtSF', 'BedroomAbvGr',\n",
    "#        'KitchenAbvGr', 'TotRmsAbvGrd', 'Fireplaces', 'GarageArea',\n",
    "#        'WoodDeckSF', 'ScreenPorch']\n",
    "\n",
    "# with tol=.005\n",
    "sfs_numerical_features_list = ['GrLivArea', 'YearBuilt', 'YearRemodAdd', 'MasVnrArea',\n",
    "       'BsmtFinSF1', 'TotalBsmtSF', 'BedroomAbvGr', 'KitchenAbvGr',\n",
    "       'GarageArea']\n",
    "\n",
    "# define numerical features\n",
    "sfs_numerical_features = ames[sfs_numerical_features_list]\n",
    "\n",
    "# print number of numerical features and head of df\n",
    "print(f'number of sfs-reduced numerical features (without target): {len(sfs_numerical_features_list)}')\n",
    "sfs_numerical_features.head(2)"
   ]
  },
  {
   "cell_type": "code",
   "execution_count": 4,
   "id": "e29677e7-ef1a-4cc4-9880-e7136d628f7f",
   "metadata": {
    "scrolled": true
   },
   "outputs": [
    {
     "name": "stdout",
     "output_type": "stream",
     "text": [
      "number of categorical features: 48\n"
     ]
    },
    {
     "data": {
      "text/html": [
       "<div>\n",
       "<style scoped>\n",
       "    .dataframe tbody tr th:only-of-type {\n",
       "        vertical-align: middle;\n",
       "    }\n",
       "\n",
       "    .dataframe tbody tr th {\n",
       "        vertical-align: top;\n",
       "    }\n",
       "\n",
       "    .dataframe thead th {\n",
       "        text-align: right;\n",
       "    }\n",
       "</style>\n",
       "<table border=\"1\" class=\"dataframe\">\n",
       "  <thead>\n",
       "    <tr style=\"text-align: right;\">\n",
       "      <th></th>\n",
       "      <th>MSSubClass</th>\n",
       "      <th>MSZoning</th>\n",
       "      <th>Street</th>\n",
       "      <th>Alley</th>\n",
       "      <th>LotShape</th>\n",
       "      <th>LandContour</th>\n",
       "      <th>Utilities</th>\n",
       "      <th>LotConfig</th>\n",
       "      <th>LandSlope</th>\n",
       "      <th>Neighborhood</th>\n",
       "      <th>...</th>\n",
       "      <th>GarageQual</th>\n",
       "      <th>GarageCond</th>\n",
       "      <th>PavedDrive</th>\n",
       "      <th>PoolQC</th>\n",
       "      <th>Fence</th>\n",
       "      <th>MiscFeature</th>\n",
       "      <th>MoSold</th>\n",
       "      <th>YrSold</th>\n",
       "      <th>SaleType</th>\n",
       "      <th>SaleCondition</th>\n",
       "    </tr>\n",
       "  </thead>\n",
       "  <tbody>\n",
       "    <tr>\n",
       "      <th>0</th>\n",
       "      <td>30</td>\n",
       "      <td>RL</td>\n",
       "      <td>Pave</td>\n",
       "      <td>None</td>\n",
       "      <td>Reg</td>\n",
       "      <td>Lvl</td>\n",
       "      <td>AllPub</td>\n",
       "      <td>Corner</td>\n",
       "      <td>Gtl</td>\n",
       "      <td>SWISU</td>\n",
       "      <td>...</td>\n",
       "      <td>TA</td>\n",
       "      <td>TA</td>\n",
       "      <td>Y</td>\n",
       "      <td>None</td>\n",
       "      <td>None</td>\n",
       "      <td>None</td>\n",
       "      <td>3</td>\n",
       "      <td>2010</td>\n",
       "      <td>WD</td>\n",
       "      <td>Normal</td>\n",
       "    </tr>\n",
       "    <tr>\n",
       "      <th>1</th>\n",
       "      <td>120</td>\n",
       "      <td>RL</td>\n",
       "      <td>Pave</td>\n",
       "      <td>None</td>\n",
       "      <td>Reg</td>\n",
       "      <td>Lvl</td>\n",
       "      <td>AllPub</td>\n",
       "      <td>Inside</td>\n",
       "      <td>Gtl</td>\n",
       "      <td>Edwards</td>\n",
       "      <td>...</td>\n",
       "      <td>TA</td>\n",
       "      <td>TA</td>\n",
       "      <td>Y</td>\n",
       "      <td>None</td>\n",
       "      <td>None</td>\n",
       "      <td>None</td>\n",
       "      <td>2</td>\n",
       "      <td>2009</td>\n",
       "      <td>WD</td>\n",
       "      <td>Normal</td>\n",
       "    </tr>\n",
       "  </tbody>\n",
       "</table>\n",
       "<p>2 rows × 48 columns</p>\n",
       "</div>"
      ],
      "text/plain": [
       "  MSSubClass MSZoning Street Alley LotShape LandContour Utilities LotConfig  \\\n",
       "0         30       RL   Pave  None      Reg         Lvl    AllPub    Corner   \n",
       "1        120       RL   Pave  None      Reg         Lvl    AllPub    Inside   \n",
       "\n",
       "  LandSlope Neighborhood  ... GarageQual GarageCond PavedDrive PoolQC Fence  \\\n",
       "0       Gtl        SWISU  ...         TA         TA          Y   None  None   \n",
       "1       Gtl      Edwards  ...         TA         TA          Y   None  None   \n",
       "\n",
       "  MiscFeature MoSold YrSold SaleType SaleCondition  \n",
       "0        None      3   2010      WD         Normal  \n",
       "1        None      2   2009      WD         Normal  \n",
       "\n",
       "[2 rows x 48 columns]"
      ]
     },
     "execution_count": 4,
     "metadata": {},
     "output_type": "execute_result"
    }
   ],
   "source": [
    "# define categorical features\n",
    "categorical_features = ames.select_dtypes(include=['object'])\n",
    "\n",
    "# define categorical features list\n",
    "categorical_features_list = categorical_features.columns\n",
    "\n",
    "# print number of categorical features and head of df\n",
    "print(f'number of categorical features: {len(categorical_features_list)}')\n",
    "categorical_features.head(2)"
   ]
  },
  {
   "cell_type": "markdown",
   "id": "c5c369dd-ae66-49c1-9559-c818b72a11f8",
   "metadata": {},
   "source": [
    "### Score categorical features individually\n",
    "\n",
    "Score the sfs-reduced numeric feature set with each categorical feature, individually, to see which ones are the most predictive"
   ]
  },
  {
   "cell_type": "code",
   "execution_count": 6,
   "id": "6aaf4fd9-0aa9-46dd-9e00-354ecc3cad73",
   "metadata": {},
   "outputs": [
    {
     "data": {
      "text/html": [
       "<div>\n",
       "<style scoped>\n",
       "    .dataframe tbody tr th:only-of-type {\n",
       "        vertical-align: middle;\n",
       "    }\n",
       "\n",
       "    .dataframe tbody tr th {\n",
       "        vertical-align: top;\n",
       "    }\n",
       "\n",
       "    .dataframe thead th {\n",
       "        text-align: right;\n",
       "    }\n",
       "</style>\n",
       "<table border=\"1\" class=\"dataframe\">\n",
       "  <thead>\n",
       "    <tr style=\"text-align: right;\">\n",
       "      <th></th>\n",
       "      <th>GrLivArea</th>\n",
       "      <th>YearBuilt</th>\n",
       "      <th>YearRemodAdd</th>\n",
       "      <th>MasVnrArea</th>\n",
       "      <th>BsmtFinSF1</th>\n",
       "      <th>TotalBsmtSF</th>\n",
       "      <th>BedroomAbvGr</th>\n",
       "      <th>KitchenAbvGr</th>\n",
       "      <th>GarageArea</th>\n",
       "    </tr>\n",
       "  </thead>\n",
       "  <tbody>\n",
       "    <tr>\n",
       "      <th>0</th>\n",
       "      <td>856</td>\n",
       "      <td>1939</td>\n",
       "      <td>1950</td>\n",
       "      <td>0.0</td>\n",
       "      <td>238.0</td>\n",
       "      <td>856.0</td>\n",
       "      <td>2</td>\n",
       "      <td>1</td>\n",
       "      <td>399.0</td>\n",
       "    </tr>\n",
       "    <tr>\n",
       "      <th>1</th>\n",
       "      <td>1049</td>\n",
       "      <td>1984</td>\n",
       "      <td>1984</td>\n",
       "      <td>149.0</td>\n",
       "      <td>552.0</td>\n",
       "      <td>1049.0</td>\n",
       "      <td>2</td>\n",
       "      <td>1</td>\n",
       "      <td>266.0</td>\n",
       "    </tr>\n",
       "  </tbody>\n",
       "</table>\n",
       "</div>"
      ],
      "text/plain": [
       "   GrLivArea  YearBuilt  YearRemodAdd  MasVnrArea  BsmtFinSF1  TotalBsmtSF  \\\n",
       "0        856       1939          1950         0.0       238.0        856.0   \n",
       "1       1049       1984          1984       149.0       552.0       1049.0   \n",
       "\n",
       "   BedroomAbvGr  KitchenAbvGr  GarageArea  \n",
       "0             2             1       399.0  \n",
       "1             2             1       266.0  "
      ]
     },
     "execution_count": 6,
     "metadata": {},
     "output_type": "execute_result"
    }
   ],
   "source": [
    "# define features for modeling\n",
    "X = sfs_numerical_features\n",
    "y = ames['SalePrice']\n",
    "X.head(2)"
   ]
  },
  {
   "cell_type": "code",
   "execution_count": 7,
   "id": "6702ec13-a88f-4ca9-936c-cdcba6d06a71",
   "metadata": {},
   "outputs": [
    {
     "data": {
      "text/plain": [
       "0.820708752475823"
      ]
     },
     "execution_count": 7,
     "metadata": {},
     "output_type": "execute_result"
    }
   ],
   "source": [
    "# Baseline score for sfs-reduced numeric features, no categorical features\n",
    "baseline_score = cross_val_score(LinearRegression(), X, y, cv=5).mean()\n",
    "baseline_score\n",
    "\n",
    "# with tol=None: 0.829458253090675"
   ]
  },
  {
   "cell_type": "code",
   "execution_count": 8,
   "id": "5340eae7-c13b-49fa-b295-92506da1ce1a",
   "metadata": {
    "scrolled": true
   },
   "outputs": [
    {
     "name": "stdout",
     "output_type": "stream",
     "text": [
      "MSSubClass: 0.8288 (+0.0080)\n",
      "MSZoning: 0.8222 (+0.0015)\n",
      "Street: 0.8206 (+-0.0001)\n",
      "Alley: 0.8209 (+0.0002)\n",
      "LotShape: 0.8218 (+0.0011)\n",
      "LandContour: 0.8254 (+0.0047)\n"
     ]
    },
    {
     "name": "stderr",
     "output_type": "stream",
     "text": [
      "/opt/anaconda3/lib/python3.11/site-packages/sklearn/preprocessing/_encoders.py:202: UserWarning: Found unknown categories in columns [0] during transform. These unknown categories will be encoded as all zeros\n",
      "  warnings.warn(\n",
      "/opt/anaconda3/lib/python3.11/site-packages/sklearn/preprocessing/_encoders.py:202: UserWarning: Found unknown categories in columns [0] during transform. These unknown categories will be encoded as all zeros\n",
      "  warnings.warn(\n",
      "/opt/anaconda3/lib/python3.11/site-packages/sklearn/preprocessing/_encoders.py:202: UserWarning: Found unknown categories in columns [0] during transform. These unknown categories will be encoded as all zeros\n",
      "  warnings.warn(\n",
      "/opt/anaconda3/lib/python3.11/site-packages/sklearn/preprocessing/_encoders.py:202: UserWarning: Found unknown categories in columns [0] during transform. These unknown categories will be encoded as all zeros\n",
      "  warnings.warn(\n"
     ]
    },
    {
     "name": "stdout",
     "output_type": "stream",
     "text": [
      "Utilities: 0.8207 (+0.0000)\n",
      "LotConfig: 0.8216 (+0.0009)\n",
      "LandSlope: 0.8209 (+0.0002)\n",
      "Neighborhood: 0.8484 (+0.0277)\n",
      "Condition1: 0.8207 (+-0.0000)\n",
      "Condition2: 0.8156 (+-0.0051)\n",
      "BldgType: 0.8264 (+0.0057)\n",
      "HouseStyle: 0.8198 (+-0.0009)\n",
      "OverallQual: 0.8752 (+0.0545)\n",
      "OverallCond: 0.8282 (+0.0075)\n"
     ]
    },
    {
     "name": "stderr",
     "output_type": "stream",
     "text": [
      "/opt/anaconda3/lib/python3.11/site-packages/sklearn/preprocessing/_encoders.py:202: UserWarning: Found unknown categories in columns [0] during transform. These unknown categories will be encoded as all zeros\n",
      "  warnings.warn(\n",
      "/opt/anaconda3/lib/python3.11/site-packages/sklearn/preprocessing/_encoders.py:202: UserWarning: Found unknown categories in columns [0] during transform. These unknown categories will be encoded as all zeros\n",
      "  warnings.warn(\n",
      "/opt/anaconda3/lib/python3.11/site-packages/sklearn/preprocessing/_encoders.py:202: UserWarning: Found unknown categories in columns [0] during transform. These unknown categories will be encoded as all zeros\n",
      "  warnings.warn(\n",
      "/opt/anaconda3/lib/python3.11/site-packages/sklearn/preprocessing/_encoders.py:202: UserWarning: Found unknown categories in columns [0] during transform. These unknown categories will be encoded as all zeros\n",
      "  warnings.warn(\n"
     ]
    },
    {
     "name": "stdout",
     "output_type": "stream",
     "text": [
      "RoofStyle: 0.8214 (+0.0007)\n",
      "RoofMatl: 0.8233 (+0.0026)\n",
      "Exterior1st: 0.8250 (+0.0043)\n",
      "Exterior2nd: 0.8228 (+0.0021)\n",
      "MasVnrType: 0.8240 (+0.0033)\n",
      "ExterQual: 0.8462 (+0.0255)\n",
      "ExterCond: 0.8205 (+-0.0002)\n",
      "Foundation: 0.8247 (+0.0040)\n"
     ]
    },
    {
     "name": "stderr",
     "output_type": "stream",
     "text": [
      "/opt/anaconda3/lib/python3.11/site-packages/sklearn/preprocessing/_encoders.py:202: UserWarning: Found unknown categories in columns [0] during transform. These unknown categories will be encoded as all zeros\n",
      "  warnings.warn(\n",
      "/opt/anaconda3/lib/python3.11/site-packages/sklearn/preprocessing/_encoders.py:202: UserWarning: Found unknown categories in columns [0] during transform. These unknown categories will be encoded as all zeros\n",
      "  warnings.warn(\n",
      "/opt/anaconda3/lib/python3.11/site-packages/sklearn/preprocessing/_encoders.py:202: UserWarning: Found unknown categories in columns [0] during transform. These unknown categories will be encoded as all zeros\n",
      "  warnings.warn(\n",
      "/opt/anaconda3/lib/python3.11/site-packages/sklearn/preprocessing/_encoders.py:202: UserWarning: Found unknown categories in columns [0] during transform. These unknown categories will be encoded as all zeros\n",
      "  warnings.warn(\n",
      "/opt/anaconda3/lib/python3.11/site-packages/sklearn/preprocessing/_encoders.py:202: UserWarning: Found unknown categories in columns [0] during transform. These unknown categories will be encoded as all zeros\n",
      "  warnings.warn(\n",
      "/opt/anaconda3/lib/python3.11/site-packages/sklearn/preprocessing/_encoders.py:202: UserWarning: Found unknown categories in columns [0] during transform. These unknown categories will be encoded as all zeros\n",
      "  warnings.warn(\n"
     ]
    },
    {
     "name": "stdout",
     "output_type": "stream",
     "text": [
      "BsmtQual: 0.8446 (+0.0239)\n",
      "BsmtCond: 0.8238 (+0.0031)\n",
      "BsmtExposure: 0.8314 (+0.0107)\n",
      "BsmtFinType1: 0.8252 (+0.0045)\n",
      "BsmtFinType2: 0.8240 (+0.0033)\n",
      "Heating: 0.8214 (+0.0007)\n",
      "HeatingQC: 0.8238 (+0.0031)\n",
      "CentralAir: 0.8207 (+-0.0000)\n",
      "Electrical: 0.8209 (+0.0002)\n",
      "KitchenQual: 0.8459 (+0.0252)\n",
      "Functional: 0.8273 (+0.0066)\n",
      "FireplaceQu: 0.8280 (+0.0073)\n"
     ]
    },
    {
     "name": "stderr",
     "output_type": "stream",
     "text": [
      "/opt/anaconda3/lib/python3.11/site-packages/sklearn/preprocessing/_encoders.py:202: UserWarning: Found unknown categories in columns [0] during transform. These unknown categories will be encoded as all zeros\n",
      "  warnings.warn(\n",
      "/opt/anaconda3/lib/python3.11/site-packages/sklearn/preprocessing/_encoders.py:202: UserWarning: Found unknown categories in columns [0] during transform. These unknown categories will be encoded as all zeros\n",
      "  warnings.warn(\n",
      "/opt/anaconda3/lib/python3.11/site-packages/sklearn/preprocessing/_encoders.py:202: UserWarning: Found unknown categories in columns [0] during transform. These unknown categories will be encoded as all zeros\n",
      "  warnings.warn(\n",
      "/opt/anaconda3/lib/python3.11/site-packages/sklearn/preprocessing/_encoders.py:202: UserWarning: Found unknown categories in columns [0] during transform. These unknown categories will be encoded as all zeros\n",
      "  warnings.warn(\n",
      "/opt/anaconda3/lib/python3.11/site-packages/sklearn/preprocessing/_encoders.py:202: UserWarning: Found unknown categories in columns [0] during transform. These unknown categories will be encoded as all zeros\n",
      "  warnings.warn(\n"
     ]
    },
    {
     "name": "stdout",
     "output_type": "stream",
     "text": [
      "GarageType: 0.8220 (+0.0012)\n",
      "GarageFinish: 0.8242 (+0.0035)\n",
      "GarageQual: 0.8211 (+0.0004)\n",
      "GarageCond: 0.8212 (+0.0005)\n",
      "PavedDrive: 0.8202 (+-0.0005)\n",
      "PoolQC: 0.8189 (+-0.0018)\n",
      "Fence: 0.8204 (+-0.0003)\n",
      "MiscFeature: 0.8207 (+-0.0000)\n",
      "MoSold: 0.8199 (+-0.0008)\n",
      "YrSold: 0.8203 (+-0.0004)\n",
      "SaleType: 0.8208 (+0.0001)\n",
      "SaleCondition: 0.8222 (+0.0015)\n"
     ]
    },
    {
     "name": "stderr",
     "output_type": "stream",
     "text": [
      "/opt/anaconda3/lib/python3.11/site-packages/sklearn/preprocessing/_encoders.py:202: UserWarning: Found unknown categories in columns [0] during transform. These unknown categories will be encoded as all zeros\n",
      "  warnings.warn(\n"
     ]
    }
   ],
   "source": [
    "categorical_improvements = {}\n",
    "for cat_feature in categorical_features_list:\n",
    "    # Test numeric feature set + this categorical\n",
    "    test_features = sfs_numerical_features_list + [cat_feature]\n",
    "    \n",
    "    # preprocess this combination\n",
    "    preprocessor = ColumnTransformer([\n",
    "        ('num', 'passthrough', sfs_numerical_features_list),\n",
    "        ('cat', OneHotEncoder(drop='first', handle_unknown='ignore', sparse_output=False), [cat_feature])\n",
    "    ])\n",
    "    \n",
    "    model = Pipeline([\n",
    "        ('preprocessor', preprocessor),\n",
    "        ('regressor', LinearRegression())\n",
    "    ])\n",
    "    \n",
    "    score = cross_val_score(model, ames[test_features], y, cv=5).mean()\n",
    "    improvement = score - baseline_score\n",
    "    \n",
    "    categorical_improvements[cat_feature] = improvement\n",
    "    print(f\"{cat_feature}: {score:.4f} (+{improvement:.4f})\")"
   ]
  },
  {
   "cell_type": "code",
   "execution_count": 9,
   "id": "3652b7fe-a1a1-4bce-aac3-54db684c7f23",
   "metadata": {},
   "outputs": [
    {
     "name": "stdout",
     "output_type": "stream",
     "text": [
      "\n",
      "Best categorical features to add to sfs-reduced numeric features:\n",
      "OverallQual: +0.0545\n",
      "Neighborhood: +0.0277\n",
      "ExterQual: +0.0255\n",
      "KitchenQual: +0.0252\n",
      "BsmtQual: +0.0239\n",
      "BsmtExposure: +0.0107\n",
      "MSSubClass: +0.0080\n",
      "OverallCond: +0.0075\n",
      "FireplaceQu: +0.0073\n",
      "Functional: +0.0066\n",
      "BldgType: +0.0057\n",
      "LandContour: +0.0047\n",
      "BsmtFinType1: +0.0045\n",
      "Exterior1st: +0.0043\n",
      "Foundation: +0.0040\n",
      "GarageFinish: +0.0035\n",
      "MasVnrType: +0.0033\n",
      "BsmtFinType2: +0.0033\n",
      "BsmtCond: +0.0031\n",
      "HeatingQC: +0.0031\n",
      "RoofMatl: +0.0026\n",
      "Exterior2nd: +0.0021\n",
      "SaleCondition: +0.0015\n",
      "MSZoning: +0.0015\n",
      "GarageType: +0.0012\n"
     ]
    }
   ],
   "source": [
    "# sort improvements\n",
    "sorted_cats = sorted(categorical_improvements.items(), key=lambda x: x[1], reverse=True)\n",
    "print(f\"\\nBest categorical features to add to sfs-reduced numeric features:\")\n",
    "for cat, improvement in sorted_cats[:25]:\n",
    "    print(f\"{cat}: +{improvement:.4f}\")"
   ]
  },
  {
   "cell_type": "code",
   "execution_count": 10,
   "id": "d1abbc8f-6e81-4ab3-95a7-d89cd2168541",
   "metadata": {},
   "outputs": [],
   "source": [
    "# define list of most predictive categorical features\n",
    "best_cat_list = [\n",
    "    'OverallQual',\n",
    "    'Neighborhood',\n",
    "    'ExterQual',\n",
    "    'KitchenQual',\n",
    "    'BsmtQual',\n",
    "    'BsmtExposure',\n",
    "    'MSSubClass',\n",
    "    'OverallCond',\n",
    "    'FireplaceQu',\n",
    "    'Functional',\n",
    "    'BldgType',\n",
    "    'LandContour',\n",
    "    'BsmtFinType1',\n",
    "    'Exterior1st',\n",
    "    'Foundation',\n",
    "    'GarageFinish',\n",
    "    'MasVnrType',\n",
    "    'BsmtFinType2',\n",
    "    'BsmtCond',\n",
    "    'HeatingQC'\n",
    "]"
   ]
  },
  {
   "cell_type": "code",
   "execution_count": 11,
   "id": "60159c16-17a5-4160-9e91-065fe67ad40e",
   "metadata": {},
   "outputs": [
    {
     "data": {
      "text/html": [
       "<div>\n",
       "<style scoped>\n",
       "    .dataframe tbody tr th:only-of-type {\n",
       "        vertical-align: middle;\n",
       "    }\n",
       "\n",
       "    .dataframe tbody tr th {\n",
       "        vertical-align: top;\n",
       "    }\n",
       "\n",
       "    .dataframe thead th {\n",
       "        text-align: right;\n",
       "    }\n",
       "</style>\n",
       "<table border=\"1\" class=\"dataframe\">\n",
       "  <thead>\n",
       "    <tr style=\"text-align: right;\">\n",
       "      <th></th>\n",
       "      <th>OverallQual</th>\n",
       "      <th>Neighborhood</th>\n",
       "      <th>ExterQual</th>\n",
       "      <th>KitchenQual</th>\n",
       "      <th>BsmtQual</th>\n",
       "      <th>BsmtExposure</th>\n",
       "      <th>MSSubClass</th>\n",
       "      <th>OverallCond</th>\n",
       "      <th>FireplaceQu</th>\n",
       "      <th>Functional</th>\n",
       "      <th>BldgType</th>\n",
       "      <th>LandContour</th>\n",
       "      <th>BsmtFinType1</th>\n",
       "      <th>Exterior1st</th>\n",
       "      <th>Foundation</th>\n",
       "      <th>GarageFinish</th>\n",
       "      <th>MasVnrType</th>\n",
       "      <th>BsmtFinType2</th>\n",
       "      <th>BsmtCond</th>\n",
       "      <th>HeatingQC</th>\n",
       "    </tr>\n",
       "  </thead>\n",
       "  <tbody>\n",
       "    <tr>\n",
       "      <th>0</th>\n",
       "      <td>6</td>\n",
       "      <td>SWISU</td>\n",
       "      <td>TA</td>\n",
       "      <td>TA</td>\n",
       "      <td>TA</td>\n",
       "      <td>No</td>\n",
       "      <td>30</td>\n",
       "      <td>6</td>\n",
       "      <td>Gd</td>\n",
       "      <td>Typ</td>\n",
       "      <td>1Fam</td>\n",
       "      <td>Lvl</td>\n",
       "      <td>Rec</td>\n",
       "      <td>Wd Sdng</td>\n",
       "      <td>CBlock</td>\n",
       "      <td>Unf</td>\n",
       "      <td>None</td>\n",
       "      <td>Unf</td>\n",
       "      <td>TA</td>\n",
       "      <td>TA</td>\n",
       "    </tr>\n",
       "    <tr>\n",
       "      <th>1</th>\n",
       "      <td>5</td>\n",
       "      <td>Edwards</td>\n",
       "      <td>Gd</td>\n",
       "      <td>Gd</td>\n",
       "      <td>Gd</td>\n",
       "      <td>Mn</td>\n",
       "      <td>120</td>\n",
       "      <td>5</td>\n",
       "      <td>None</td>\n",
       "      <td>Typ</td>\n",
       "      <td>TwnhsE</td>\n",
       "      <td>Lvl</td>\n",
       "      <td>GLQ</td>\n",
       "      <td>HdBoard</td>\n",
       "      <td>CBlock</td>\n",
       "      <td>Fin</td>\n",
       "      <td>BrkFace</td>\n",
       "      <td>ALQ</td>\n",
       "      <td>TA</td>\n",
       "      <td>TA</td>\n",
       "    </tr>\n",
       "  </tbody>\n",
       "</table>\n",
       "</div>"
      ],
      "text/plain": [
       "  OverallQual Neighborhood ExterQual KitchenQual BsmtQual BsmtExposure  \\\n",
       "0           6        SWISU        TA          TA       TA           No   \n",
       "1           5      Edwards        Gd          Gd       Gd           Mn   \n",
       "\n",
       "  MSSubClass OverallCond FireplaceQu Functional BldgType LandContour  \\\n",
       "0         30           6          Gd        Typ     1Fam         Lvl   \n",
       "1        120           5        None        Typ   TwnhsE         Lvl   \n",
       "\n",
       "  BsmtFinType1 Exterior1st Foundation GarageFinish MasVnrType BsmtFinType2  \\\n",
       "0          Rec     Wd Sdng     CBlock          Unf       None          Unf   \n",
       "1          GLQ     HdBoard     CBlock          Fin    BrkFace          ALQ   \n",
       "\n",
       "  BsmtCond HeatingQC  \n",
       "0       TA        TA  \n",
       "1       TA        TA  "
      ]
     },
     "execution_count": 11,
     "metadata": {},
     "output_type": "execute_result"
    }
   ],
   "source": [
    "best_cat_df = ames[best_cat_list]\n",
    "best_cat_df.head(2)"
   ]
  },
  {
   "cell_type": "code",
   "execution_count": 12,
   "id": "30d39805-4330-4561-aceb-44d582bcaa0e",
   "metadata": {},
   "outputs": [
    {
     "name": "stdout",
     "output_type": "stream",
     "text": [
      "29\n"
     ]
    },
    {
     "data": {
      "text/html": [
       "<div>\n",
       "<style scoped>\n",
       "    .dataframe tbody tr th:only-of-type {\n",
       "        vertical-align: middle;\n",
       "    }\n",
       "\n",
       "    .dataframe tbody tr th {\n",
       "        vertical-align: top;\n",
       "    }\n",
       "\n",
       "    .dataframe thead th {\n",
       "        text-align: right;\n",
       "    }\n",
       "</style>\n",
       "<table border=\"1\" class=\"dataframe\">\n",
       "  <thead>\n",
       "    <tr style=\"text-align: right;\">\n",
       "      <th></th>\n",
       "      <th>GrLivArea</th>\n",
       "      <th>YearBuilt</th>\n",
       "      <th>YearRemodAdd</th>\n",
       "      <th>MasVnrArea</th>\n",
       "      <th>BsmtFinSF1</th>\n",
       "      <th>TotalBsmtSF</th>\n",
       "      <th>BedroomAbvGr</th>\n",
       "      <th>KitchenAbvGr</th>\n",
       "      <th>GarageArea</th>\n",
       "      <th>OverallQual</th>\n",
       "      <th>...</th>\n",
       "      <th>BldgType</th>\n",
       "      <th>LandContour</th>\n",
       "      <th>BsmtFinType1</th>\n",
       "      <th>Exterior1st</th>\n",
       "      <th>Foundation</th>\n",
       "      <th>GarageFinish</th>\n",
       "      <th>MasVnrType</th>\n",
       "      <th>BsmtFinType2</th>\n",
       "      <th>BsmtCond</th>\n",
       "      <th>HeatingQC</th>\n",
       "    </tr>\n",
       "  </thead>\n",
       "  <tbody>\n",
       "    <tr>\n",
       "      <th>0</th>\n",
       "      <td>856</td>\n",
       "      <td>1939</td>\n",
       "      <td>1950</td>\n",
       "      <td>0.0</td>\n",
       "      <td>238.0</td>\n",
       "      <td>856.0</td>\n",
       "      <td>2</td>\n",
       "      <td>1</td>\n",
       "      <td>399.0</td>\n",
       "      <td>6</td>\n",
       "      <td>...</td>\n",
       "      <td>1Fam</td>\n",
       "      <td>Lvl</td>\n",
       "      <td>Rec</td>\n",
       "      <td>Wd Sdng</td>\n",
       "      <td>CBlock</td>\n",
       "      <td>Unf</td>\n",
       "      <td>None</td>\n",
       "      <td>Unf</td>\n",
       "      <td>TA</td>\n",
       "      <td>TA</td>\n",
       "    </tr>\n",
       "    <tr>\n",
       "      <th>1</th>\n",
       "      <td>1049</td>\n",
       "      <td>1984</td>\n",
       "      <td>1984</td>\n",
       "      <td>149.0</td>\n",
       "      <td>552.0</td>\n",
       "      <td>1049.0</td>\n",
       "      <td>2</td>\n",
       "      <td>1</td>\n",
       "      <td>266.0</td>\n",
       "      <td>5</td>\n",
       "      <td>...</td>\n",
       "      <td>TwnhsE</td>\n",
       "      <td>Lvl</td>\n",
       "      <td>GLQ</td>\n",
       "      <td>HdBoard</td>\n",
       "      <td>CBlock</td>\n",
       "      <td>Fin</td>\n",
       "      <td>BrkFace</td>\n",
       "      <td>ALQ</td>\n",
       "      <td>TA</td>\n",
       "      <td>TA</td>\n",
       "    </tr>\n",
       "  </tbody>\n",
       "</table>\n",
       "<p>2 rows × 29 columns</p>\n",
       "</div>"
      ],
      "text/plain": [
       "   GrLivArea  YearBuilt  YearRemodAdd  MasVnrArea  BsmtFinSF1  TotalBsmtSF  \\\n",
       "0        856       1939          1950         0.0       238.0        856.0   \n",
       "1       1049       1984          1984       149.0       552.0       1049.0   \n",
       "\n",
       "   BedroomAbvGr  KitchenAbvGr  GarageArea OverallQual  ... BldgType  \\\n",
       "0             2             1       399.0           6  ...     1Fam   \n",
       "1             2             1       266.0           5  ...   TwnhsE   \n",
       "\n",
       "  LandContour BsmtFinType1 Exterior1st Foundation GarageFinish MasVnrType  \\\n",
       "0         Lvl          Rec     Wd Sdng     CBlock          Unf       None   \n",
       "1         Lvl          GLQ     HdBoard     CBlock          Fin    BrkFace   \n",
       "\n",
       "  BsmtFinType2 BsmtCond HeatingQC  \n",
       "0          Unf       TA        TA  \n",
       "1          ALQ       TA        TA  \n",
       "\n",
       "[2 rows x 29 columns]"
      ]
     },
     "execution_count": 12,
     "metadata": {},
     "output_type": "execute_result"
    }
   ],
   "source": [
    "# create dataframe with sfs-reduced numerical features and these best categorical features\n",
    "X_reduced = sfs_numerical_features.join(best_cat_df)\n",
    "print(len(X_reduced.columns))\n",
    "X_reduced.head(2)"
   ]
  },
  {
   "cell_type": "code",
   "execution_count": 13,
   "id": "e2a4d3df-09ff-4d4e-be96-3c55bad9fadb",
   "metadata": {},
   "outputs": [],
   "source": [
    "# define target\n",
    "y = ames['SalePrice']"
   ]
  },
  {
   "cell_type": "code",
   "execution_count": 14,
   "id": "908cc861-bd6f-44e4-933a-c53513623294",
   "metadata": {},
   "outputs": [],
   "source": [
    "# define preprocessor\n",
    "preprocessor = ColumnTransformer(\n",
    "    transformers=[\n",
    "        ('numerical', 'passthrough', sfs_numerical_features_list),\n",
    "        ('onehot', OneHotEncoder(drop='first', sparse_output=False, handle_unknown='ignore'), best_cat_list)\n",
    "])"
   ]
  },
  {
   "cell_type": "code",
   "execution_count": 15,
   "id": "3d470902-2e8f-4307-8f3b-4faaaba0caf2",
   "metadata": {},
   "outputs": [],
   "source": [
    "# fit the model\n",
    "model = Pipeline(\n",
    "    steps=[\n",
    "        ('preprocessor', preprocessor),\n",
    "        ('regressor', LinearRegression())\n",
    "    ])"
   ]
  },
  {
   "cell_type": "code",
   "execution_count": 16,
   "id": "6324bba8-0113-4637-92b9-42e52ccce46e",
   "metadata": {},
   "outputs": [
    {
     "name": "stderr",
     "output_type": "stream",
     "text": [
      "/opt/anaconda3/lib/python3.11/site-packages/sklearn/preprocessing/_encoders.py:202: UserWarning: Found unknown categories in columns [3, 9, 13] during transform. These unknown categories will be encoded as all zeros\n",
      "  warnings.warn(\n",
      "/opt/anaconda3/lib/python3.11/site-packages/sklearn/preprocessing/_encoders.py:202: UserWarning: Found unknown categories in columns [19] during transform. These unknown categories will be encoded as all zeros\n",
      "  warnings.warn(\n",
      "/opt/anaconda3/lib/python3.11/site-packages/sklearn/preprocessing/_encoders.py:202: UserWarning: Found unknown categories in columns [1, 13] during transform. These unknown categories will be encoded as all zeros\n",
      "  warnings.warn(\n",
      "/opt/anaconda3/lib/python3.11/site-packages/sklearn/preprocessing/_encoders.py:202: UserWarning: Found unknown categories in columns [6, 13] during transform. These unknown categories will be encoded as all zeros\n",
      "  warnings.warn(\n",
      "/opt/anaconda3/lib/python3.11/site-packages/sklearn/preprocessing/_encoders.py:202: UserWarning: Found unknown categories in columns [13, 19] during transform. These unknown categories will be encoded as all zeros\n",
      "  warnings.warn(\n",
      "/opt/anaconda3/lib/python3.11/site-packages/sklearn/preprocessing/_encoders.py:202: UserWarning: Found unknown categories in columns [13] during transform. These unknown categories will be encoded as all zeros\n",
      "  warnings.warn(\n",
      "/opt/anaconda3/lib/python3.11/site-packages/sklearn/preprocessing/_encoders.py:202: UserWarning: Found unknown categories in columns [3, 6, 9, 13] during transform. These unknown categories will be encoded as all zeros\n",
      "  warnings.warn(\n"
     ]
    },
    {
     "name": "stdout",
     "output_type": "stream",
     "text": [
      "cv scores [0.86793266 0.91306653 0.93129235 0.9268025  0.92272708]\n"
     ]
    },
    {
     "name": "stderr",
     "output_type": "stream",
     "text": [
      "/opt/anaconda3/lib/python3.11/site-packages/sklearn/preprocessing/_encoders.py:202: UserWarning: Found unknown categories in columns [1, 4] during transform. These unknown categories will be encoded as all zeros\n",
      "  warnings.warn(\n",
      "/opt/anaconda3/lib/python3.11/site-packages/sklearn/preprocessing/_encoders.py:202: UserWarning: Found unknown categories in columns [1] during transform. These unknown categories will be encoded as all zeros\n",
      "  warnings.warn(\n",
      "/opt/anaconda3/lib/python3.11/site-packages/sklearn/preprocessing/_encoders.py:202: UserWarning: Found unknown categories in columns [1, 9, 13, 18] during transform. These unknown categories will be encoded as all zeros\n",
      "  warnings.warn(\n",
      "/opt/anaconda3/lib/python3.11/site-packages/sklearn/preprocessing/_encoders.py:202: UserWarning: Found unknown categories in columns [6] during transform. These unknown categories will be encoded as all zeros\n",
      "  warnings.warn(\n",
      "/opt/anaconda3/lib/python3.11/site-packages/sklearn/preprocessing/_encoders.py:202: UserWarning: Found unknown categories in columns [13] during transform. These unknown categories will be encoded as all zeros\n",
      "  warnings.warn(\n",
      "/opt/anaconda3/lib/python3.11/site-packages/sklearn/preprocessing/_encoders.py:202: UserWarning: Found unknown categories in columns [4] during transform. These unknown categories will be encoded as all zeros\n",
      "  warnings.warn(\n"
     ]
    }
   ],
   "source": [
    "# create storage\n",
    "results = {}\n",
    "\n",
    "# fit and evaluate the model on all data and score\n",
    "model.fit(X_reduced, y)\n",
    "cv_scores = cross_val_score(model, X_reduced, y)\n",
    "mean_cv_score = float(round(cv_scores.mean(), 4))\n",
    "\n",
    "# evaluate on train-test for overfitting analysis\n",
    "X_train, X_test, y_train, y_test = train_test_split(X_reduced, y, test_size=0.2, random_state = 0)\n",
    "\n",
    "model.fit(X_train, y_train)\n",
    "train_score = (cross_val_score(model, X_train, y_train)).mean()\n",
    "test_score = (cross_val_score(model, X_test, y_test)).mean()\n",
    "diff = train_score - test_score\n",
    "\n",
    "results = {\n",
    "    'mean-cv on X and y': round(mean_cv_score, 4),\n",
    "    'train score': round(train_score, 4),\n",
    "    'test score': round(test_score, 4),\n",
    "    'train-test gap': round(diff, 4),\n",
    "    'scenario': f'linear-linear 9/{len(best_cat_df.columns)} model:',\n",
    "    'algorithm': 'MLR'\n",
    "}\n",
    "\n",
    "print(f'cv scores', cv_scores)"
   ]
  },
  {
   "cell_type": "code",
   "execution_count": 17,
   "id": "da3db382-3282-4cdf-8453-811372897974",
   "metadata": {},
   "outputs": [
    {
     "data": {
      "text/plain": [
       "{'mean-cv on X and y': 0.9124,\n",
       " 'train score': 0.8942,\n",
       " 'test score': 0.902,\n",
       " 'train-test gap': -0.0078,\n",
       " 'scenario': 'linear-linear 9/20 model:',\n",
       " 'algorithm': 'MLR'}"
      ]
     },
     "execution_count": 17,
     "metadata": {},
     "output_type": "execute_result"
    }
   ],
   "source": [
    "results"
   ]
  },
  {
   "cell_type": "markdown",
   "id": "143ed71b-bde7-4b22-8b5f-33f68d60dd16",
   "metadata": {},
   "source": [
    "**Notes:**\n",
    "mean cv scores for sfs features selected with tol=0.005\n",
    "- 9/6:  0.8952\n",
    "- 9/10: 0.9099\n",
    "- 9/12: 0.9098\n",
    "- 9/15: 0.9109\n",
    "- 9/20: 0.9124\n",
    "- 9/22: 0.9121\n",
    "- 9/25: 0.9113\n",
    "\n",
    "mean cv scores for sfs selected features with tol=None\n",
    "see Ames_\n",
    "- 15/7: 0.9083\n",
    "- 15/10: 0.9096\n",
    "- 15/12: 0.9141\n",
    "- 15/15: 0.9141\n",
    "- 15/20: 0.9146\n",
    "- 15/25: 0.9145\n",
    "- 15/30: 0.9131"
   ]
  },
  {
   "cell_type": "code",
   "execution_count": 19,
   "id": "f3531b19-2717-4b1d-a7cf-5ba584c95b20",
   "metadata": {},
   "outputs": [],
   "source": [
    "results_df = pd.DataFrame([results])"
   ]
  },
  {
   "cell_type": "code",
   "execution_count": 20,
   "id": "ac71d8b1-30d4-4c2c-8608-3d8cd33b83a6",
   "metadata": {},
   "outputs": [],
   "source": [
    "# double check this, if changed ratio of numerical to categorical features\n",
    "results_df.to_csv('linear_linear_9_20.csv')"
   ]
  },
  {
   "cell_type": "code",
   "execution_count": null,
   "id": "ba867d3a-d3ba-4567-9f32-75e7282b0a6a",
   "metadata": {},
   "outputs": [],
   "source": []
  },
  {
   "cell_type": "code",
   "execution_count": null,
   "id": "b72a5726-5270-4de5-9049-2b045f2303b1",
   "metadata": {},
   "outputs": [],
   "source": []
  },
  {
   "cell_type": "code",
   "execution_count": null,
   "id": "9976dafe-f539-4063-9190-c4e5bc0debff",
   "metadata": {},
   "outputs": [],
   "source": []
  },
  {
   "cell_type": "code",
   "execution_count": null,
   "id": "920fac51-a6c0-451a-bc9b-b0a4f1737d0f",
   "metadata": {},
   "outputs": [],
   "source": []
  },
  {
   "cell_type": "markdown",
   "id": "4b772d70-7e13-4b87-b76c-111ca7768022",
   "metadata": {},
   "source": [
    "# Resources\n",
    "[Return To Top](#Contents)\n",
    "\n",
    "**Dean De Cock paper and original data:**\n",
    "\n",
    "- [Ames, Iowa: Alternative to the Boston Housing Data as an\n",
    "End of Semester Regression Project](https://jse.amstat.org/v19n3/decock.pdf)\n",
    "\n",
    "- [DataDocumentation.txt](https://jse.amstat.org/v19n3/decock/DataDocumentation.txt)\n",
    "\n",
    "- [Ames Data Dictionary on Github](https://github.com/Padre-Media/dataset/blob/main/Ames%20Data%20Dictionary.txt)"
   ]
  }
 ],
 "metadata": {
  "kernelspec": {
   "display_name": "Python 3 (ipykernel)",
   "language": "python",
   "name": "python3"
  },
  "language_info": {
   "codemirror_mode": {
    "name": "ipython",
    "version": 3
   },
   "file_extension": ".py",
   "mimetype": "text/x-python",
   "name": "python",
   "nbconvert_exporter": "python",
   "pygments_lexer": "ipython3",
   "version": "3.11.7"
  }
 },
 "nbformat": 4,
 "nbformat_minor": 5
}
