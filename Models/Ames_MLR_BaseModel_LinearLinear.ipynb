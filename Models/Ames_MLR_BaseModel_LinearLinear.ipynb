{
 "cells": [
  {
   "cell_type": "markdown",
   "id": "425f5563-134e-4a5a-8655-81351d84a042",
   "metadata": {},
   "source": [
    "**MLR linear-linear base model:**\n",
    "\n",
    "with all numeric and categorical features and no transformations.  "
   ]
  },
  {
   "cell_type": "code",
   "execution_count": 2,
   "id": "20646d3e-b7c0-4e90-9cb5-f33eb9bafd54",
   "metadata": {
    "scrolled": true
   },
   "outputs": [],
   "source": [
    "# libraries\n",
    "import pandas as pd\n",
    "import numpy as np\n",
    "import matplotlib.pyplot as plt\n",
    "import seaborn as sns\n",
    "from sklearn.impute import SimpleImputer\n",
    "from sklearn.preprocessing import StandardScaler, OrdinalEncoder, OneHotEncoder\n",
    "from sklearn.pipeline import Pipeline\n",
    "from sklearn.compose import ColumnTransformer\n",
    "from sklearn.model_selection import cross_val_score, train_test_split, KFold\n",
    "from sklearn.linear_model import LinearRegression\n",
    "from sklearn.feature_selection import SequentialFeatureSelector\n",
    "\n",
    "# Import raw data, if needed for comparison.\n",
    "ames_raw = pd.read_csv('Ames_Housing_Price_Data.csv', index_col=0).reset_index()\n",
    "ames_raw.drop(columns=['index'], inplace=True)\n",
    "ames_raw.head(2)\n",
    "\n",
    "# Import cleaned data for modeling\n",
    "ames = pd.read_pickle('ames_clean.pkl')"
   ]
  },
  {
   "cell_type": "code",
   "execution_count": 3,
   "id": "7a953b6b-110b-4476-b1b0-440d32e27bd1",
   "metadata": {
    "scrolled": true
   },
   "outputs": [
    {
     "name": "stdout",
     "output_type": "stream",
     "text": [
      "number of numerical features (without target): 31\n"
     ]
    },
    {
     "data": {
      "text/html": [
       "<div>\n",
       "<style scoped>\n",
       "    .dataframe tbody tr th:only-of-type {\n",
       "        vertical-align: middle;\n",
       "    }\n",
       "\n",
       "    .dataframe tbody tr th {\n",
       "        vertical-align: top;\n",
       "    }\n",
       "\n",
       "    .dataframe thead th {\n",
       "        text-align: right;\n",
       "    }\n",
       "</style>\n",
       "<table border=\"1\" class=\"dataframe\">\n",
       "  <thead>\n",
       "    <tr style=\"text-align: right;\">\n",
       "      <th></th>\n",
       "      <th>GrLivArea</th>\n",
       "      <th>LotFrontage</th>\n",
       "      <th>LotArea</th>\n",
       "      <th>YearBuilt</th>\n",
       "      <th>YearRemodAdd</th>\n",
       "      <th>MasVnrArea</th>\n",
       "      <th>BsmtFinSF1</th>\n",
       "      <th>BsmtFinSF2</th>\n",
       "      <th>BsmtUnfSF</th>\n",
       "      <th>TotalBsmtSF</th>\n",
       "      <th>...</th>\n",
       "      <th>GarageYrBlt</th>\n",
       "      <th>GarageCars</th>\n",
       "      <th>GarageArea</th>\n",
       "      <th>WoodDeckSF</th>\n",
       "      <th>OpenPorchSF</th>\n",
       "      <th>EnclosedPorch</th>\n",
       "      <th>3SsnPorch</th>\n",
       "      <th>ScreenPorch</th>\n",
       "      <th>PoolArea</th>\n",
       "      <th>MiscVal</th>\n",
       "    </tr>\n",
       "  </thead>\n",
       "  <tbody>\n",
       "    <tr>\n",
       "      <th>0</th>\n",
       "      <td>856</td>\n",
       "      <td>68.0</td>\n",
       "      <td>7890</td>\n",
       "      <td>1939</td>\n",
       "      <td>1950</td>\n",
       "      <td>0.0</td>\n",
       "      <td>238.0</td>\n",
       "      <td>0.0</td>\n",
       "      <td>618.0</td>\n",
       "      <td>856.0</td>\n",
       "      <td>...</td>\n",
       "      <td>1939</td>\n",
       "      <td>2.0</td>\n",
       "      <td>399.0</td>\n",
       "      <td>0</td>\n",
       "      <td>0</td>\n",
       "      <td>0</td>\n",
       "      <td>0</td>\n",
       "      <td>166</td>\n",
       "      <td>0</td>\n",
       "      <td>0</td>\n",
       "    </tr>\n",
       "    <tr>\n",
       "      <th>1</th>\n",
       "      <td>1049</td>\n",
       "      <td>42.0</td>\n",
       "      <td>4235</td>\n",
       "      <td>1984</td>\n",
       "      <td>1984</td>\n",
       "      <td>149.0</td>\n",
       "      <td>552.0</td>\n",
       "      <td>393.0</td>\n",
       "      <td>104.0</td>\n",
       "      <td>1049.0</td>\n",
       "      <td>...</td>\n",
       "      <td>1984</td>\n",
       "      <td>1.0</td>\n",
       "      <td>266.0</td>\n",
       "      <td>0</td>\n",
       "      <td>105</td>\n",
       "      <td>0</td>\n",
       "      <td>0</td>\n",
       "      <td>0</td>\n",
       "      <td>0</td>\n",
       "      <td>0</td>\n",
       "    </tr>\n",
       "  </tbody>\n",
       "</table>\n",
       "<p>2 rows × 31 columns</p>\n",
       "</div>"
      ],
      "text/plain": [
       "   GrLivArea  LotFrontage  LotArea  YearBuilt  YearRemodAdd  MasVnrArea  \\\n",
       "0        856         68.0     7890       1939          1950         0.0   \n",
       "1       1049         42.0     4235       1984          1984       149.0   \n",
       "\n",
       "   BsmtFinSF1  BsmtFinSF2  BsmtUnfSF  TotalBsmtSF  ...  GarageYrBlt  \\\n",
       "0       238.0         0.0      618.0        856.0  ...         1939   \n",
       "1       552.0       393.0      104.0       1049.0  ...         1984   \n",
       "\n",
       "   GarageCars  GarageArea  WoodDeckSF  OpenPorchSF  EnclosedPorch  3SsnPorch  \\\n",
       "0         2.0       399.0           0            0              0          0   \n",
       "1         1.0       266.0           0          105              0          0   \n",
       "\n",
       "   ScreenPorch  PoolArea  MiscVal  \n",
       "0          166         0        0  \n",
       "1            0         0        0  \n",
       "\n",
       "[2 rows x 31 columns]"
      ]
     },
     "execution_count": 3,
     "metadata": {},
     "output_type": "execute_result"
    }
   ],
   "source": [
    "# define numerical features\n",
    "numerical_features = ames.select_dtypes(include=['float64', 'int64'])\n",
    "\n",
    "# drop target from features\n",
    "numerical_features.drop(columns=['SalePrice'], axis=1, inplace=True)\n",
    "\n",
    "# define numerical features list\n",
    "numerical_features_list = numerical_features.columns\n",
    "\n",
    "# print number of numerical features and head of df\n",
    "print(f'number of numerical features (without target): {len(numerical_features_list)}')\n",
    "numerical_features.head(2)"
   ]
  },
  {
   "cell_type": "code",
   "execution_count": 4,
   "id": "e29677e7-ef1a-4cc4-9880-e7136d628f7f",
   "metadata": {
    "scrolled": true
   },
   "outputs": [
    {
     "name": "stdout",
     "output_type": "stream",
     "text": [
      "number of categorical features: 48\n"
     ]
    },
    {
     "data": {
      "text/html": [
       "<div>\n",
       "<style scoped>\n",
       "    .dataframe tbody tr th:only-of-type {\n",
       "        vertical-align: middle;\n",
       "    }\n",
       "\n",
       "    .dataframe tbody tr th {\n",
       "        vertical-align: top;\n",
       "    }\n",
       "\n",
       "    .dataframe thead th {\n",
       "        text-align: right;\n",
       "    }\n",
       "</style>\n",
       "<table border=\"1\" class=\"dataframe\">\n",
       "  <thead>\n",
       "    <tr style=\"text-align: right;\">\n",
       "      <th></th>\n",
       "      <th>MSSubClass</th>\n",
       "      <th>MSZoning</th>\n",
       "      <th>Street</th>\n",
       "      <th>Alley</th>\n",
       "      <th>LotShape</th>\n",
       "      <th>LandContour</th>\n",
       "      <th>Utilities</th>\n",
       "      <th>LotConfig</th>\n",
       "      <th>LandSlope</th>\n",
       "      <th>Neighborhood</th>\n",
       "      <th>...</th>\n",
       "      <th>GarageQual</th>\n",
       "      <th>GarageCond</th>\n",
       "      <th>PavedDrive</th>\n",
       "      <th>PoolQC</th>\n",
       "      <th>Fence</th>\n",
       "      <th>MiscFeature</th>\n",
       "      <th>MoSold</th>\n",
       "      <th>YrSold</th>\n",
       "      <th>SaleType</th>\n",
       "      <th>SaleCondition</th>\n",
       "    </tr>\n",
       "  </thead>\n",
       "  <tbody>\n",
       "    <tr>\n",
       "      <th>0</th>\n",
       "      <td>30</td>\n",
       "      <td>RL</td>\n",
       "      <td>Pave</td>\n",
       "      <td>None</td>\n",
       "      <td>Reg</td>\n",
       "      <td>Lvl</td>\n",
       "      <td>AllPub</td>\n",
       "      <td>Corner</td>\n",
       "      <td>Gtl</td>\n",
       "      <td>SWISU</td>\n",
       "      <td>...</td>\n",
       "      <td>TA</td>\n",
       "      <td>TA</td>\n",
       "      <td>Y</td>\n",
       "      <td>None</td>\n",
       "      <td>None</td>\n",
       "      <td>None</td>\n",
       "      <td>3</td>\n",
       "      <td>2010</td>\n",
       "      <td>WD</td>\n",
       "      <td>Normal</td>\n",
       "    </tr>\n",
       "    <tr>\n",
       "      <th>1</th>\n",
       "      <td>120</td>\n",
       "      <td>RL</td>\n",
       "      <td>Pave</td>\n",
       "      <td>None</td>\n",
       "      <td>Reg</td>\n",
       "      <td>Lvl</td>\n",
       "      <td>AllPub</td>\n",
       "      <td>Inside</td>\n",
       "      <td>Gtl</td>\n",
       "      <td>Edwards</td>\n",
       "      <td>...</td>\n",
       "      <td>TA</td>\n",
       "      <td>TA</td>\n",
       "      <td>Y</td>\n",
       "      <td>None</td>\n",
       "      <td>None</td>\n",
       "      <td>None</td>\n",
       "      <td>2</td>\n",
       "      <td>2009</td>\n",
       "      <td>WD</td>\n",
       "      <td>Normal</td>\n",
       "    </tr>\n",
       "  </tbody>\n",
       "</table>\n",
       "<p>2 rows × 48 columns</p>\n",
       "</div>"
      ],
      "text/plain": [
       "  MSSubClass MSZoning Street Alley LotShape LandContour Utilities LotConfig  \\\n",
       "0         30       RL   Pave  None      Reg         Lvl    AllPub    Corner   \n",
       "1        120       RL   Pave  None      Reg         Lvl    AllPub    Inside   \n",
       "\n",
       "  LandSlope Neighborhood  ... GarageQual GarageCond PavedDrive PoolQC Fence  \\\n",
       "0       Gtl        SWISU  ...         TA         TA          Y   None  None   \n",
       "1       Gtl      Edwards  ...         TA         TA          Y   None  None   \n",
       "\n",
       "  MiscFeature MoSold YrSold SaleType SaleCondition  \n",
       "0        None      3   2010      WD         Normal  \n",
       "1        None      2   2009      WD         Normal  \n",
       "\n",
       "[2 rows x 48 columns]"
      ]
     },
     "execution_count": 4,
     "metadata": {},
     "output_type": "execute_result"
    }
   ],
   "source": [
    "# define categorical features\n",
    "categorical_features = ames.select_dtypes(include=['object'])\n",
    "\n",
    "# define categorical features list\n",
    "categorical_features_list = categorical_features.columns\n",
    "\n",
    "# print number of categorical features and head of df\n",
    "print(f'number of categorical features: {len(categorical_features_list)}')\n",
    "categorical_features.head(2)"
   ]
  },
  {
   "cell_type": "code",
   "execution_count": 5,
   "id": "6aaf4fd9-0aa9-46dd-9e00-354ecc3cad73",
   "metadata": {},
   "outputs": [
    {
     "data": {
      "text/html": [
       "<div>\n",
       "<style scoped>\n",
       "    .dataframe tbody tr th:only-of-type {\n",
       "        vertical-align: middle;\n",
       "    }\n",
       "\n",
       "    .dataframe tbody tr th {\n",
       "        vertical-align: top;\n",
       "    }\n",
       "\n",
       "    .dataframe thead th {\n",
       "        text-align: right;\n",
       "    }\n",
       "</style>\n",
       "<table border=\"1\" class=\"dataframe\">\n",
       "  <thead>\n",
       "    <tr style=\"text-align: right;\">\n",
       "      <th></th>\n",
       "      <th>GrLivArea</th>\n",
       "      <th>LotFrontage</th>\n",
       "      <th>LotArea</th>\n",
       "      <th>YearBuilt</th>\n",
       "      <th>YearRemodAdd</th>\n",
       "      <th>MasVnrArea</th>\n",
       "      <th>BsmtFinSF1</th>\n",
       "      <th>BsmtFinSF2</th>\n",
       "      <th>BsmtUnfSF</th>\n",
       "      <th>TotalBsmtSF</th>\n",
       "      <th>...</th>\n",
       "      <th>GarageQual</th>\n",
       "      <th>GarageCond</th>\n",
       "      <th>PavedDrive</th>\n",
       "      <th>PoolQC</th>\n",
       "      <th>Fence</th>\n",
       "      <th>MiscFeature</th>\n",
       "      <th>MoSold</th>\n",
       "      <th>YrSold</th>\n",
       "      <th>SaleType</th>\n",
       "      <th>SaleCondition</th>\n",
       "    </tr>\n",
       "  </thead>\n",
       "  <tbody>\n",
       "    <tr>\n",
       "      <th>0</th>\n",
       "      <td>856</td>\n",
       "      <td>68.0</td>\n",
       "      <td>7890</td>\n",
       "      <td>1939</td>\n",
       "      <td>1950</td>\n",
       "      <td>0.0</td>\n",
       "      <td>238.0</td>\n",
       "      <td>0.0</td>\n",
       "      <td>618.0</td>\n",
       "      <td>856.0</td>\n",
       "      <td>...</td>\n",
       "      <td>TA</td>\n",
       "      <td>TA</td>\n",
       "      <td>Y</td>\n",
       "      <td>None</td>\n",
       "      <td>None</td>\n",
       "      <td>None</td>\n",
       "      <td>3</td>\n",
       "      <td>2010</td>\n",
       "      <td>WD</td>\n",
       "      <td>Normal</td>\n",
       "    </tr>\n",
       "    <tr>\n",
       "      <th>1</th>\n",
       "      <td>1049</td>\n",
       "      <td>42.0</td>\n",
       "      <td>4235</td>\n",
       "      <td>1984</td>\n",
       "      <td>1984</td>\n",
       "      <td>149.0</td>\n",
       "      <td>552.0</td>\n",
       "      <td>393.0</td>\n",
       "      <td>104.0</td>\n",
       "      <td>1049.0</td>\n",
       "      <td>...</td>\n",
       "      <td>TA</td>\n",
       "      <td>TA</td>\n",
       "      <td>Y</td>\n",
       "      <td>None</td>\n",
       "      <td>None</td>\n",
       "      <td>None</td>\n",
       "      <td>2</td>\n",
       "      <td>2009</td>\n",
       "      <td>WD</td>\n",
       "      <td>Normal</td>\n",
       "    </tr>\n",
       "  </tbody>\n",
       "</table>\n",
       "<p>2 rows × 79 columns</p>\n",
       "</div>"
      ],
      "text/plain": [
       "   GrLivArea  LotFrontage  LotArea  YearBuilt  YearRemodAdd  MasVnrArea  \\\n",
       "0        856         68.0     7890       1939          1950         0.0   \n",
       "1       1049         42.0     4235       1984          1984       149.0   \n",
       "\n",
       "   BsmtFinSF1  BsmtFinSF2  BsmtUnfSF  TotalBsmtSF  ...  GarageQual  \\\n",
       "0       238.0         0.0      618.0        856.0  ...          TA   \n",
       "1       552.0       393.0      104.0       1049.0  ...          TA   \n",
       "\n",
       "   GarageCond  PavedDrive  PoolQC  Fence  MiscFeature  MoSold  YrSold  \\\n",
       "0          TA           Y    None   None         None       3    2010   \n",
       "1          TA           Y    None   None         None       2    2009   \n",
       "\n",
       "   SaleType  SaleCondition  \n",
       "0       WD          Normal  \n",
       "1       WD          Normal  \n",
       "\n",
       "[2 rows x 79 columns]"
      ]
     },
     "execution_count": 5,
     "metadata": {},
     "output_type": "execute_result"
    }
   ],
   "source": [
    "# define features for modeling\n",
    "X = numerical_features.join(categorical_features)\n",
    "y = ames['SalePrice']\n",
    "X.head(2)"
   ]
  },
  {
   "cell_type": "code",
   "execution_count": 6,
   "id": "908cc861-bd6f-44e4-933a-c53513623294",
   "metadata": {},
   "outputs": [],
   "source": [
    "# Set up preprocessor\n",
    "preprocessor = ColumnTransformer(\n",
    "    transformers=[\n",
    "        ('numerical', 'passthrough', numerical_features_list),\n",
    "        ('onehot', OneHotEncoder(drop='first', handle_unknown='ignore'), categorical_features_list)\n",
    "])"
   ]
  },
  {
   "cell_type": "code",
   "execution_count": 7,
   "id": "3d470902-2e8f-4307-8f3b-4faaaba0caf2",
   "metadata": {},
   "outputs": [],
   "source": [
    "# fit the model\n",
    "model = Pipeline(\n",
    "    steps=[\n",
    "        ('preprocessor', preprocessor),\n",
    "        ('regressor', LinearRegression())\n",
    "    ])"
   ]
  },
  {
   "cell_type": "markdown",
   "id": "e8f37139-0196-421a-9af9-a794b7c9b245",
   "metadata": {},
   "source": [
    "**Penalized and tree models use GridSearchCV and evaluate on train-test data. How to score here for fair comparison?**\n",
    "\n",
    "Because I am using GridSearchCV for hyperparameter tuning with my penalized and tree models, use cross validation scoring here as well and evaluate on train test data, for fair comparison."
   ]
  },
  {
   "cell_type": "code",
   "execution_count": 9,
   "id": "702eed30-6b9c-4a6b-bfc8-e582ab830f6e",
   "metadata": {},
   "outputs": [
    {
     "name": "stderr",
     "output_type": "stream",
     "text": [
      "/opt/anaconda3/lib/python3.11/site-packages/sklearn/preprocessing/_encoders.py:202: UserWarning: Found unknown categories in columns [18, 33, 34] during transform. These unknown categories will be encoded as all zeros\n",
      "  warnings.warn(\n",
      "/opt/anaconda3/lib/python3.11/site-packages/sklearn/preprocessing/_encoders.py:202: UserWarning: Found unknown categories in columns [17, 30, 43, 46] during transform. These unknown categories will be encoded as all zeros\n",
      "  warnings.warn(\n",
      "/opt/anaconda3/lib/python3.11/site-packages/sklearn/preprocessing/_encoders.py:202: UserWarning: Found unknown categories in columns [9, 17, 18, 19] during transform. These unknown categories will be encoded as all zeros\n",
      "  warnings.warn(\n",
      "/opt/anaconda3/lib/python3.11/site-packages/sklearn/preprocessing/_encoders.py:202: UserWarning: Found unknown categories in columns [11, 22] during transform. These unknown categories will be encoded as all zeros\n",
      "  warnings.warn(\n",
      "/opt/anaconda3/lib/python3.11/site-packages/sklearn/preprocessing/_encoders.py:202: UserWarning: Found unknown categories in columns [0, 1, 6, 11, 18, 19, 29] during transform. These unknown categories will be encoded as all zeros\n",
      "  warnings.warn(\n",
      "/opt/anaconda3/lib/python3.11/site-packages/sklearn/preprocessing/_encoders.py:202: UserWarning: Found unknown categories in columns [18, 29, 30] during transform. These unknown categories will be encoded as all zeros\n",
      "  warnings.warn(\n",
      "/opt/anaconda3/lib/python3.11/site-packages/sklearn/preprocessing/_encoders.py:202: UserWarning: Found unknown categories in columns [11, 17, 18, 41] during transform. These unknown categories will be encoded as all zeros\n",
      "  warnings.warn(\n",
      "/opt/anaconda3/lib/python3.11/site-packages/sklearn/preprocessing/_encoders.py:202: UserWarning: Found unknown categories in columns [0, 1, 18, 33, 34] during transform. These unknown categories will be encoded as all zeros\n",
      "  warnings.warn(\n",
      "/opt/anaconda3/lib/python3.11/site-packages/sklearn/preprocessing/_encoders.py:202: UserWarning: Found unknown categories in columns [9, 11, 24, 41] during transform. These unknown categories will be encoded as all zeros\n",
      "  warnings.warn(\n",
      "/opt/anaconda3/lib/python3.11/site-packages/sklearn/preprocessing/_encoders.py:202: UserWarning: Found unknown categories in columns [9, 22, 29, 43] during transform. These unknown categories will be encoded as all zeros\n",
      "  warnings.warn(\n",
      "/opt/anaconda3/lib/python3.11/site-packages/sklearn/preprocessing/_encoders.py:202: UserWarning: Found unknown categories in columns [9, 11, 18, 19, 25, 34, 41] during transform. These unknown categories will be encoded as all zeros\n",
      "  warnings.warn(\n"
     ]
    },
    {
     "name": "stdout",
     "output_type": "stream",
     "text": [
      "cv scores [0.86743571 0.92265047 0.93065861 0.92360722 0.92584001]\n"
     ]
    },
    {
     "name": "stderr",
     "output_type": "stream",
     "text": [
      "/opt/anaconda3/lib/python3.11/site-packages/sklearn/preprocessing/_encoders.py:202: UserWarning: Found unknown categories in columns [0, 11, 29, 38, 41, 42, 46] during transform. These unknown categories will be encoded as all zeros\n",
      "  warnings.warn(\n",
      "/opt/anaconda3/lib/python3.11/site-packages/sklearn/preprocessing/_encoders.py:202: UserWarning: Found unknown categories in columns [13, 16, 17, 18, 19, 47] during transform. These unknown categories will be encoded as all zeros\n",
      "  warnings.warn(\n",
      "/opt/anaconda3/lib/python3.11/site-packages/sklearn/preprocessing/_encoders.py:202: UserWarning: Found unknown categories in columns [17, 24, 32, 38, 39, 46] during transform. These unknown categories will be encoded as all zeros\n",
      "  warnings.warn(\n",
      "/opt/anaconda3/lib/python3.11/site-packages/sklearn/preprocessing/_encoders.py:202: UserWarning: Found unknown categories in columns [4, 22] during transform. These unknown categories will be encoded as all zeros\n",
      "  warnings.warn(\n"
     ]
    }
   ],
   "source": [
    "# create storage\n",
    "results = {}\n",
    "\n",
    "# fit and evaluate the model on all data and score\n",
    "model.fit(X, y)\n",
    "cv_scores = cross_val_score(model, X, y)\n",
    "mean_cv_score = float(round(cv_scores.mean(), 4))\n",
    "\n",
    "# evaluate on train-test for overfitting analysis\n",
    "X_train, X_test, y_train, y_test = train_test_split(X, y, test_size=0.2, random_state = 0)\n",
    "\n",
    "model.fit(X_train, y_train)\n",
    "train_score = (cross_val_score(model, X_train, y_train)).mean()\n",
    "test_score = (cross_val_score(model, X_test, y_test)).mean()\n",
    "diff = train_score - test_score\n",
    "\n",
    "results = {\n",
    "    'mean-cv on X and y': round(mean_cv_score, 4),\n",
    "    \n",
    "    'train score': round(train_score, 4),\n",
    "    'test score': round(test_score, 4),\n",
    "    'train-test gap': round(diff, 4),\n",
    "    'scenario': 'linear-linear base model (79 features)',\n",
    "    'algorithm': 'MLR'\n",
    "}\n",
    "\n",
    "print(f'cv scores', cv_scores)"
   ]
  },
  {
   "cell_type": "code",
   "execution_count": 10,
   "id": "b80cf222-19ca-4cd6-8a56-96aecedef817",
   "metadata": {},
   "outputs": [
    {
     "data": {
      "text/plain": [
       "{'mean-cv on X and y': 0.914,\n",
       " 'train score': 0.8892,\n",
       " 'test score': 0.8964,\n",
       " 'train-test gap': -0.0072,\n",
       " 'scenario': 'linear-linear base model (79 features)',\n",
       " 'algorithm': 'MLR'}"
      ]
     },
     "execution_count": 10,
     "metadata": {},
     "output_type": "execute_result"
    }
   ],
   "source": [
    "results "
   ]
  },
  {
   "cell_type": "code",
   "execution_count": 11,
   "id": "66cd9840-ac83-4f9d-b723-f92a769f6508",
   "metadata": {},
   "outputs": [
    {
     "data": {
      "text/html": [
       "<div>\n",
       "<style scoped>\n",
       "    .dataframe tbody tr th:only-of-type {\n",
       "        vertical-align: middle;\n",
       "    }\n",
       "\n",
       "    .dataframe tbody tr th {\n",
       "        vertical-align: top;\n",
       "    }\n",
       "\n",
       "    .dataframe thead th {\n",
       "        text-align: right;\n",
       "    }\n",
       "</style>\n",
       "<table border=\"1\" class=\"dataframe\">\n",
       "  <thead>\n",
       "    <tr style=\"text-align: right;\">\n",
       "      <th></th>\n",
       "      <th>mean-cv on X and y</th>\n",
       "      <th>train score</th>\n",
       "      <th>test score</th>\n",
       "      <th>train-test gap</th>\n",
       "      <th>scenario</th>\n",
       "      <th>algorithm</th>\n",
       "    </tr>\n",
       "  </thead>\n",
       "  <tbody>\n",
       "    <tr>\n",
       "      <th>0</th>\n",
       "      <td>0.914</td>\n",
       "      <td>0.8892</td>\n",
       "      <td>0.8964</td>\n",
       "      <td>-0.0072</td>\n",
       "      <td>linear-linear base model (79 features)</td>\n",
       "      <td>MLR</td>\n",
       "    </tr>\n",
       "  </tbody>\n",
       "</table>\n",
       "</div>"
      ],
      "text/plain": [
       "   mean-cv on X and y  train score  test score  train-test gap  \\\n",
       "0               0.914       0.8892      0.8964         -0.0072   \n",
       "\n",
       "                                 scenario algorithm  \n",
       "0  linear-linear base model (79 features)       MLR  "
      ]
     },
     "execution_count": 11,
     "metadata": {},
     "output_type": "execute_result"
    }
   ],
   "source": [
    "results_df = pd.DataFrame([results])\n",
    "results_df"
   ]
  },
  {
   "cell_type": "code",
   "execution_count": 12,
   "id": "13fbf75c-7116-4115-9724-7ea406845d15",
   "metadata": {},
   "outputs": [],
   "source": [
    "results_df.to_csv('linear_linear_base.csv')"
   ]
  },
  {
   "cell_type": "code",
   "execution_count": null,
   "id": "7cb41ae5-88e8-41b0-a3a7-640187e66027",
   "metadata": {},
   "outputs": [],
   "source": []
  },
  {
   "cell_type": "code",
   "execution_count": null,
   "id": "50035be3-0b9a-4516-bebd-7e209fe9b831",
   "metadata": {},
   "outputs": [],
   "source": []
  },
  {
   "cell_type": "markdown",
   "id": "3ac935f4-855b-4865-b680-d7474fe6021c",
   "metadata": {},
   "source": [
    "# example cv-fold analysis:"
   ]
  },
  {
   "cell_type": "code",
   "execution_count": 32,
   "id": "01d70cf1-5955-44d1-9e48-8596c5d1f38d",
   "metadata": {},
   "outputs": [
    {
     "data": {
      "text/plain": [
       "array([0.86743571, 0.92265047, 0.93065861, 0.92360722, 0.92584001])"
      ]
     },
     "execution_count": 32,
     "metadata": {},
     "output_type": "execute_result"
    }
   ],
   "source": [
    "cv_scores"
   ]
  },
  {
   "cell_type": "code",
   "execution_count": 35,
   "id": "0625257a-6414-4b94-8916-485de8692a93",
   "metadata": {},
   "outputs": [
    {
     "name": "stdout",
     "output_type": "stream",
     "text": [
      "1. BASIC STATISTICS:\n",
      "Mean CV Score: 0.914038\n",
      "Standard Deviation: 0.026235\n",
      "Standard Error: 0.011733\n",
      "Coefficient of Variation: 2.87%\n",
      "\n"
     ]
    }
   ],
   "source": [
    "import numpy as np\n",
    "import scipy.stats as stats\n",
    "from scipy.stats import bootstrap\n",
    "import matplotlib.pyplot as plt\n",
    "\n",
    "# 1. Basic Statistics\n",
    "print(\"1. BASIC STATISTICS:\")\n",
    "print(f\"Mean CV Score: {np.mean(cv_scores):.6f}\")\n",
    "print(f\"Standard Deviation: {np.std(cv_scores, ddof=1):.6f}\")\n",
    "print(f\"Standard Error: {stats.sem(cv_scores):.6f}\")\n",
    "print(f\"Coefficient of Variation: {(np.std(cv_scores, ddof=1)/np.mean(cv_scores)*100):.2f}%\")\n",
    "print()"
   ]
  },
  {
   "cell_type": "code",
   "execution_count": 41,
   "id": "af11703a-d8cb-42af-b62c-3215d5a12e73",
   "metadata": {},
   "outputs": [
    {
     "name": "stdout",
     "output_type": "stream",
     "text": [
      "2. CONFIDENCE INTERVALS:\n",
      "95% Confidence Interval: [0.881464, 0.946613]\n",
      "Bootstrap 95% CI: [0.879117, 0.926804]\n",
      "\n"
     ]
    }
   ],
   "source": [
    "# 2. Confidence Intervals\n",
    "print(\"2. CONFIDENCE INTERVALS:\")\n",
    "# 95% CI using t-distribution (appropriate for small sample)\n",
    "confidence_level = 0.95\n",
    "alpha = 1 - confidence_level\n",
    "df = len(cv_scores) - 1\n",
    "t_critical = stats.t.ppf(1 - alpha/2, df)\n",
    "margin_error = t_critical * stats.sem(cv_scores)\n",
    "\n",
    "ci_lower = np.mean(cv_scores) - margin_error\n",
    "ci_upper = np.mean(cv_scores) + margin_error\n",
    "print(f\"95% Confidence Interval: [{ci_lower:.6f}, {ci_upper:.6f}]\")\n",
    "\n",
    "# Bootstrap CI for comparison\n",
    "def bootstrap_mean(data):\n",
    "    return np.mean(data)\n",
    "\n",
    "bootstrap_ci = bootstrap((cv_scores,), bootstrap_mean, n_resamples=10000, \n",
    "                        confidence_level=0.95, random_state=42)\n",
    "print(f\"Bootstrap 95% CI: [{bootstrap_ci.confidence_interval.low:.6f}, {bootstrap_ci.confidence_interval.high:.6f}]\")\n",
    "print()"
   ]
  },
  {
   "cell_type": "code",
   "execution_count": 47,
   "id": "8c1eb5fc-95f3-4115-a7f0-70ca472c5867",
   "metadata": {},
   "outputs": [
    {
     "name": "stdout",
     "output_type": "stream",
     "text": [
      "3. DISTRIBUTION ANALYSIS:\n",
      "Minimum Score (Worst-case): 0.867436\n",
      "Maximum Score (Best-case): 0.930659\n",
      "Range: 0.063223\n",
      "Median: 0.923607\n",
      "Skewness: -1.4468 (left-skewed)\n",
      "Kurtosis: 0.1839 (heavy-tailed)\n",
      "\n"
     ]
    }
   ],
   "source": [
    "# 3. Distribution Analysis\n",
    "print(\"3. DISTRIBUTION ANALYSIS:\")\n",
    "print(f\"Minimum Score (Worst-case): {np.min(cv_scores):.6f}\")\n",
    "print(f\"Maximum Score (Best-case): {np.max(cv_scores):.6f}\")\n",
    "print(f\"Range: {np.max(cv_scores) - np.min(cv_scores):.6f}\")\n",
    "print(f\"Median: {np.median(cv_scores):.6f}\")\n",
    "\n",
    "# Skewness and Kurtosis\n",
    "skewness = stats.skew(cv_scores)\n",
    "kurtosis = stats.kurtosis(cv_scores)\n",
    "print(f\"Skewness: {skewness:.4f} ({'right-skewed' if skewness > 0 else 'left-skewed' if skewness < 0 else 'symmetric'})\")\n",
    "print(f\"Kurtosis: {kurtosis:.4f} ({'heavy-tailed' if kurtosis > 0 else 'light-tailed' if kurtosis < 0 else 'normal-tailed'})\")\n",
    "print()"
   ]
  },
  {
   "cell_type": "code",
   "execution_count": 45,
   "id": "4fb48796-4a50-46dc-897c-dac34d370e29",
   "metadata": {},
   "outputs": [
    {
     "name": "stdout",
     "output_type": "stream",
     "text": [
      "4. RISK ASSESSMENT:\n",
      "Performance below threshold (0.9): 1/5 folds\n",
      "Probability of score < 0.9: 20.0%\n",
      "5% VaR (worst 5% performance): 0.878479\n",
      "20th percentile performance: 0.911608\n",
      "\n"
     ]
    }
   ],
   "source": [
    "# 4. Risk Assessment\n",
    "print(\"4. RISK ASSESSMENT:\")\n",
    "mean_score = np.mean(cv_scores)\n",
    "threshold = 0.90  # Example acceptable threshold\n",
    "\n",
    "print(f\"Performance below threshold ({threshold}): {np.sum(cv_scores < threshold)}/5 folds\")\n",
    "print(f\"Probability of score < {threshold}: {np.mean(cv_scores < threshold)*100:.1f}%\")\n",
    "\n",
    "# Value at Risk (VaR) - 5th percentile performance\n",
    "var_5 = np.percentile(cv_scores, 5)\n",
    "print(f\"5% VaR (worst 5% performance): {var_5:.6f}\")\n",
    "\n",
    "# Expected performance in worst 20% of cases\n",
    "worst_20_pct = np.percentile(cv_scores, 20)\n",
    "print(f\"20th percentile performance: {worst_20_pct:.6f}\")\n",
    "print()"
   ]
  },
  {
   "cell_type": "code",
   "execution_count": 49,
   "id": "b50e8e30-30cd-44da-a925-8b918fe7988f",
   "metadata": {},
   "outputs": [
    {
     "name": "stdout",
     "output_type": "stream",
     "text": [
      "5. OUTLIER DETECTION:\n",
      "IQR Outlier Thresholds: [0.917866, 0.930624]\n",
      "Low outliers: [0.86743571]\n",
      "High outliers: [0.93065861]\n",
      "Z-score outliers (|z| > 2): []\n",
      "\n"
     ]
    }
   ],
   "source": [
    "# 5. Outlier Detection\n",
    "print(\"5. OUTLIER DETECTION:\")\n",
    "# Using IQR method\n",
    "Q1 = np.percentile(cv_scores, 25)\n",
    "Q3 = np.percentile(cv_scores, 75)\n",
    "IQR = Q3 - Q1\n",
    "outlier_threshold_low = Q1 - 1.5 * IQR\n",
    "outlier_threshold_high = Q3 + 1.5 * IQR\n",
    "\n",
    "outliers_low = cv_scores[cv_scores < outlier_threshold_low]\n",
    "outliers_high = cv_scores[cv_scores > outlier_threshold_high]\n",
    "\n",
    "print(f\"IQR Outlier Thresholds: [{outlier_threshold_low:.6f}, {outlier_threshold_high:.6f}]\")\n",
    "print(f\"Low outliers: {outliers_low}\")\n",
    "print(f\"High outliers: {outliers_high}\")\n",
    "\n",
    "# Z-score method\n",
    "z_scores = np.abs(stats.zscore(cv_scores))\n",
    "z_outliers = cv_scores[z_scores > 2]  # Common threshold\n",
    "print(f\"Z-score outliers (|z| > 2): {z_outliers}\")\n",
    "print()"
   ]
  },
  {
   "cell_type": "code",
   "execution_count": 51,
   "id": "04ba556c-0d62-4401-8501-2c7d0eee06b3",
   "metadata": {},
   "outputs": [
    {
     "name": "stdout",
     "output_type": "stream",
     "text": [
      "6. STABILITY METRICS:\n",
      "Relative Standard Deviation: 0.0287\n",
      "Stability Index (1 - RSD): 0.9713\n",
      "Scores within 1 std of mean: 4/5 (80.0%)\n",
      "\n"
     ]
    }
   ],
   "source": [
    "# 6. Stability Metrics\n",
    "print(\"6. STABILITY METRICS:\")\n",
    "# Relative standard deviation\n",
    "rel_std = np.std(cv_scores, ddof=1) / np.mean(cv_scores)\n",
    "print(f\"Relative Standard Deviation: {rel_std:.4f}\")\n",
    "\n",
    "# Stability index (1 - CV)\n",
    "stability_index = 1 - rel_std\n",
    "print(f\"Stability Index (1 - RSD): {stability_index:.4f}\")\n",
    "\n",
    "# Performance consistency (% of scores within 1 std of mean)\n",
    "within_1_std = np.sum(np.abs(cv_scores - mean_score) <= np.std(cv_scores, ddof=1))\n",
    "print(f\"Scores within 1 std of mean: {within_1_std}/5 ({within_1_std/5*100:.1f}%)\")\n",
    "print()"
   ]
  },
  {
   "cell_type": "code",
   "execution_count": 53,
   "id": "5b49c72c-a019-46b0-8602-7b8fe4853acd",
   "metadata": {},
   "outputs": [
    {
     "name": "stdout",
     "output_type": "stream",
     "text": [
      "7. PERFORMANCE RELIABILITY:\n",
      "P(Score ≥ 0.85): 100.0%\n",
      "P(Score ≥ 0.9): 80.0%\n",
      "P(Score ≥ 0.92): 80.0%\n",
      "P(Score ≥ 0.95): 0.0%\n",
      "\n"
     ]
    }
   ],
   "source": [
    "# 7. Performance Reliability\n",
    "print(\"7. PERFORMANCE RELIABILITY:\")\n",
    "# Probability of achieving certain performance levels\n",
    "thresholds = [0.85, 0.90, 0.92, 0.95]\n",
    "for thresh in thresholds:\n",
    "    prob = np.mean(cv_scores >= thresh) * 100\n",
    "    print(f\"P(Score ≥ {thresh}): {prob:.1f}%\")\n",
    "print()"
   ]
  },
  {
   "cell_type": "code",
   "execution_count": 55,
   "id": "49ba5d2d-3efe-475c-9174-8e003047d8e7",
   "metadata": {},
   "outputs": [
    {
     "name": "stdout",
     "output_type": "stream",
     "text": [
      "8. INDIVIDUAL FOLD ANALYSIS:\n",
      "Fold 1: 0.867436 (deviation: -0.046603, z-score: -1.78)\n",
      "Fold 2: 0.922650 (deviation: +0.008612, z-score: +0.33)\n",
      "Fold 3: 0.930659 (deviation: +0.016620, z-score: +0.63)\n",
      "Fold 4: 0.923607 (deviation: +0.009569, z-score: +0.36)\n",
      "Fold 5: 0.925840 (deviation: +0.011802, z-score: +0.45)\n",
      "\n",
      "Best performing fold: Fold 3 (0.930659)\n",
      "Worst performing fold: Fold 1 (0.867436)\n",
      "Performance gap: 0.063223\n"
     ]
    }
   ],
   "source": [
    "# 8. Individual Fold Analysis\n",
    "print(\"8. INDIVIDUAL FOLD ANALYSIS:\")\n",
    "for i, score in enumerate(cv_scores, 1):\n",
    "    deviation = score - mean_score\n",
    "    z_score = (score - mean_score) / np.std(cv_scores, ddof=1)\n",
    "    print(f\"Fold {i}: {score:.6f} (deviation: {deviation:+.6f}, z-score: {z_score:+.2f})\")\n",
    "\n",
    "# Identify best and worst performing folds\n",
    "best_fold = np.argmax(cv_scores) + 1\n",
    "worst_fold = np.argmin(cv_scores) + 1\n",
    "print(f\"\\nBest performing fold: Fold {best_fold} ({np.max(cv_scores):.6f})\")\n",
    "print(f\"Worst performing fold: Fold {worst_fold} ({np.min(cv_scores):.6f})\")\n",
    "print(f\"Performance gap: {np.max(cv_scores) - np.min(cv_scores):.6f}\")"
   ]
  },
  {
   "cell_type": "code",
   "execution_count": 59,
   "id": "8e8b2ba2-0aa7-4893-8d32-9a64019858ee",
   "metadata": {},
   "outputs": [
    {
     "name": "stderr",
     "output_type": "stream",
     "text": [
      "/var/folders/tn/yy89yz_94q5b571nxcz7c_2m0000gn/T/ipykernel_52375/1134883416.py:19: MatplotlibDeprecationWarning: The 'labels' parameter of boxplot() has been renamed 'tick_labels' since Matplotlib 3.9; support for the old name will be dropped in 3.11.\n",
      "  ax2.boxplot(cv_scores, labels=['Model'])\n"
     ]
    },
    {
     "data": {
      "image/png": "[encoded data removed]",
      "text/plain": [
       "<Figure size 1200x1000 with 4 Axes>"
      ]
     },
     "metadata": {},
     "output_type": "display_data"
    }
   ],
   "source": [
    "# 9. Visualization Code\n",
    "\n",
    "import matplotlib.pyplot as plt\n",
    "\n",
    "fig, ((ax1, ax2), (ax3, ax4)) = plt.subplots(2, 2, figsize=(12, 10))\n",
    "\n",
    "# 1. Individual fold scores\n",
    "ax1.plot(range(1, 6), cv_scores, 'bo-', linewidth=2, markersize=8)\n",
    "ax1.axhline(y=np.mean(cv_scores), color='r', linestyle='--', label=f'Mean: {np.mean(cv_scores):.4f}')\n",
    "ax1.fill_between(range(1, 6), np.mean(cv_scores) - np.std(cv_scores, ddof=1), \n",
    "                 np.mean(cv_scores) + np.std(cv_scores, ddof=1), alpha=0.2)\n",
    "ax1.set_xlabel('Fold')\n",
    "ax1.set_ylabel('CV Score')\n",
    "ax1.set_title('CV Scores by Fold')\n",
    "ax1.legend()\n",
    "ax1.grid(True, alpha=0.3)\n",
    "\n",
    "# 2. Box plot\n",
    "ax2.boxplot(cv_scores, labels=['Model'])\n",
    "ax2.set_ylabel('CV Score')\n",
    "ax2.set_title('CV Score Distribution')\n",
    "ax2.grid(True, alpha=0.3)\n",
    "\n",
    "# 3. Histogram\n",
    "ax3.hist(cv_scores, bins=5, edgecolor='black', alpha=0.7)\n",
    "ax3.axvline(np.mean(cv_scores), color='red', linestyle='--', label=f'Mean: {np.mean(cv_scores):.4f}')\n",
    "ax3.set_xlabel('CV Score')\n",
    "ax3.set_ylabel('Frequency')\n",
    "ax3.set_title('CV Score Histogram')\n",
    "ax3.legend()\n",
    "\n",
    "# 4. Performance reliability\n",
    "thresholds = np.linspace(0.85, 0.95, 50)\n",
    "probabilities = [np.mean(cv_scores >= t) * 100 for t in thresholds]\n",
    "ax4.plot(thresholds, probabilities, 'g-', linewidth=2)\n",
    "ax4.set_xlabel('Performance Threshold')\n",
    "ax4.set_ylabel('Probability of Exceeding (%)')\n",
    "ax4.set_title('Performance Reliability Curve')\n",
    "ax4.grid(True, alpha=0.3)\n",
    "\n",
    "plt.tight_layout()\n",
    "plt.show()"
   ]
  },
  {
   "cell_type": "code",
   "execution_count": null,
   "id": "c40ecc0e-e874-4de3-bcb0-2c440bd177c9",
   "metadata": {},
   "outputs": [],
   "source": []
  },
  {
   "cell_type": "markdown",
   "id": "4b772d70-7e13-4b87-b76c-111ca7768022",
   "metadata": {},
   "source": [
    "# Resources\n",
    "[Return To Top](#Contents)\n",
    "\n",
    "**Dean De Cock paper and original data:**\n",
    "\n",
    "- [Ames, Iowa: Alternative to the Boston Housing Data as an\n",
    "End of Semester Regression Project](https://jse.amstat.org/v19n3/decock.pdf)\n",
    "\n",
    "- [DataDocumentation.txt](https://jse.amstat.org/v19n3/decock/DataDocumentation.txt)\n",
    "\n",
    "- [Ames Data Dictionary on Github](https://github.com/Padre-Media/dataset/blob/main/Ames%20Data%20Dictionary.txt)"
   ]
  },
  {
   "cell_type": "code",
   "execution_count": null,
   "id": "eaa1203b-00b6-4f7f-9a83-f392649ce7fd",
   "metadata": {},
   "outputs": [],
   "source": []
  },
  {
   "cell_type": "code",
   "execution_count": null,
   "id": "e5e50f4b-b591-4626-ba5b-b7fef357c7fa",
   "metadata": {},
   "outputs": [],
   "source": []
  },
  {
   "cell_type": "code",
   "execution_count": null,
   "id": "4a32c2a4-e7dc-49fb-85e2-c543a771e214",
   "metadata": {},
   "outputs": [],
   "source": []
  },
  {
   "cell_type": "code",
   "execution_count": null,
   "id": "bfaeb559-5627-4b26-8459-c89ace975854",
   "metadata": {},
   "outputs": [],
   "source": []
  },
  {
   "cell_type": "code",
   "execution_count": null,
   "id": "49435ff8-4da5-4ddb-b886-e55925cabcea",
   "metadata": {},
   "outputs": [],
   "source": []
  }
 ],
 "metadata": {
  "kernelspec": {
   "display_name": "Python 3 (ipykernel)",
   "language": "python",
   "name": "python3"
  },
  "language_info": {
   "codemirror_mode": {
    "name": "ipython",
    "version": 3
   },
   "file_extension": ".py",
   "mimetype": "text/x-python",
   "name": "python",
   "nbconvert_exporter": "python",
   "pygments_lexer": "ipython3",
   "version": "3.11.7"
  }
 },
 "nbformat": 4,
 "nbformat_minor": 5
}
