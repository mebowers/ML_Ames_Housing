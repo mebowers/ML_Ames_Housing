{
 "cells": [
  {
   "cell_type": "markdown",
   "id": "055e56bb-5515-453a-ad89-1b3ee8f07b1f",
   "metadata": {},
   "source": [
    "# **MLR linear-linear 15/cat model:**\n",
    "\n",
    "linear-linear model with 15 numeric feautures reduced by SequentialFeatureSelector with **tol=None**, combined with the top categorical features scored against them.  "
   ]
  },
  {
   "cell_type": "code",
   "execution_count": 2,
   "id": "20646d3e-b7c0-4e90-9cb5-f33eb9bafd54",
   "metadata": {
    "scrolled": true
   },
   "outputs": [],
   "source": [
    "# libraries\n",
    "import pandas as pd\n",
    "import numpy as np\n",
    "import matplotlib.pyplot as plt\n",
    "import seaborn as sns\n",
    "from sklearn.impute import SimpleImputer\n",
    "from sklearn.preprocessing import StandardScaler, OrdinalEncoder, OneHotEncoder\n",
    "from sklearn.pipeline import Pipeline\n",
    "from sklearn.compose import ColumnTransformer\n",
    "from sklearn.model_selection import cross_val_score, train_test_split, KFold\n",
    "from sklearn.linear_model import LinearRegression\n",
    "from sklearn.feature_selection import SequentialFeatureSelector\n",
    "\n",
    "# Import raw data, if needed for comparison.\n",
    "ames_raw = pd.read_csv('Ames_Housing_Price_Data.csv', index_col=0).reset_index()\n",
    "ames_raw.drop(columns=['index'], inplace=True)\n",
    "ames_raw.head(2)\n",
    "\n",
    "# Import cleaned data for modeling\n",
    "ames = pd.read_pickle('ames_clean.pkl')"
   ]
  },
  {
   "cell_type": "code",
   "execution_count": 3,
   "id": "7a953b6b-110b-4476-b1b0-440d32e27bd1",
   "metadata": {
    "scrolled": true
   },
   "outputs": [
    {
     "name": "stdout",
     "output_type": "stream",
     "text": [
      "number of sfs-reduced numerical features (without target): 15\n"
     ]
    },
    {
     "data": {
      "text/html": [
       "<div>\n",
       "<style scoped>\n",
       "    .dataframe tbody tr th:only-of-type {\n",
       "        vertical-align: middle;\n",
       "    }\n",
       "\n",
       "    .dataframe tbody tr th {\n",
       "        vertical-align: top;\n",
       "    }\n",
       "\n",
       "    .dataframe thead th {\n",
       "        text-align: right;\n",
       "    }\n",
       "</style>\n",
       "<table border=\"1\" class=\"dataframe\">\n",
       "  <thead>\n",
       "    <tr style=\"text-align: right;\">\n",
       "      <th></th>\n",
       "      <th>GrLivArea</th>\n",
       "      <th>LotFrontage</th>\n",
       "      <th>LotArea</th>\n",
       "      <th>YearBuilt</th>\n",
       "      <th>YearRemodAdd</th>\n",
       "      <th>MasVnrArea</th>\n",
       "      <th>BsmtFinSF1</th>\n",
       "      <th>TotalBsmtSF</th>\n",
       "      <th>BedroomAbvGr</th>\n",
       "      <th>KitchenAbvGr</th>\n",
       "      <th>TotRmsAbvGrd</th>\n",
       "      <th>Fireplaces</th>\n",
       "      <th>GarageArea</th>\n",
       "      <th>WoodDeckSF</th>\n",
       "      <th>ScreenPorch</th>\n",
       "    </tr>\n",
       "  </thead>\n",
       "  <tbody>\n",
       "    <tr>\n",
       "      <th>0</th>\n",
       "      <td>856</td>\n",
       "      <td>68.0</td>\n",
       "      <td>7890</td>\n",
       "      <td>1939</td>\n",
       "      <td>1950</td>\n",
       "      <td>0.0</td>\n",
       "      <td>238.0</td>\n",
       "      <td>856.0</td>\n",
       "      <td>2</td>\n",
       "      <td>1</td>\n",
       "      <td>4</td>\n",
       "      <td>1</td>\n",
       "      <td>399.0</td>\n",
       "      <td>0</td>\n",
       "      <td>166</td>\n",
       "    </tr>\n",
       "    <tr>\n",
       "      <th>1</th>\n",
       "      <td>1049</td>\n",
       "      <td>42.0</td>\n",
       "      <td>4235</td>\n",
       "      <td>1984</td>\n",
       "      <td>1984</td>\n",
       "      <td>149.0</td>\n",
       "      <td>552.0</td>\n",
       "      <td>1049.0</td>\n",
       "      <td>2</td>\n",
       "      <td>1</td>\n",
       "      <td>5</td>\n",
       "      <td>0</td>\n",
       "      <td>266.0</td>\n",
       "      <td>0</td>\n",
       "      <td>0</td>\n",
       "    </tr>\n",
       "  </tbody>\n",
       "</table>\n",
       "</div>"
      ],
      "text/plain": [
       "   GrLivArea  LotFrontage  LotArea  YearBuilt  YearRemodAdd  MasVnrArea  \\\n",
       "0        856         68.0     7890       1939          1950         0.0   \n",
       "1       1049         42.0     4235       1984          1984       149.0   \n",
       "\n",
       "   BsmtFinSF1  TotalBsmtSF  BedroomAbvGr  KitchenAbvGr  TotRmsAbvGrd  \\\n",
       "0       238.0        856.0             2             1             4   \n",
       "1       552.0       1049.0             2             1             5   \n",
       "\n",
       "   Fireplaces  GarageArea  WoodDeckSF  ScreenPorch  \n",
       "0           1       399.0           0          166  \n",
       "1           0       266.0           0            0  "
      ]
     },
     "execution_count": 3,
     "metadata": {},
     "output_type": "execute_result"
    }
   ],
   "source": [
    "# define numerical features list as determined in Ames_MLR_LinearLinear_sfs.ipynb\n",
    "# features selected by sfs with tol=None\n",
    "sfs_numerical_features_list = ['GrLivArea', 'LotFrontage', 'LotArea', 'YearBuilt', 'YearRemodAdd',\n",
    "       'MasVnrArea', 'BsmtFinSF1', 'TotalBsmtSF', 'BedroomAbvGr',\n",
    "       'KitchenAbvGr', 'TotRmsAbvGrd', 'Fireplaces', 'GarageArea',\n",
    "       'WoodDeckSF', 'ScreenPorch']\n",
    "\n",
    "# define numerical features\n",
    "sfs_numerical_features = ames[sfs_numerical_features_list]\n",
    "\n",
    "# print number of numerical features and head of df\n",
    "print(f'number of sfs-reduced numerical features (without target): {len(sfs_numerical_features_list)}')\n",
    "sfs_numerical_features.head(2)"
   ]
  },
  {
   "cell_type": "code",
   "execution_count": 4,
   "id": "e29677e7-ef1a-4cc4-9880-e7136d628f7f",
   "metadata": {
    "scrolled": true
   },
   "outputs": [
    {
     "name": "stdout",
     "output_type": "stream",
     "text": [
      "number of categorical features: 48\n"
     ]
    },
    {
     "data": {
      "text/html": [
       "<div>\n",
       "<style scoped>\n",
       "    .dataframe tbody tr th:only-of-type {\n",
       "        vertical-align: middle;\n",
       "    }\n",
       "\n",
       "    .dataframe tbody tr th {\n",
       "        vertical-align: top;\n",
       "    }\n",
       "\n",
       "    .dataframe thead th {\n",
       "        text-align: right;\n",
       "    }\n",
       "</style>\n",
       "<table border=\"1\" class=\"dataframe\">\n",
       "  <thead>\n",
       "    <tr style=\"text-align: right;\">\n",
       "      <th></th>\n",
       "      <th>MSSubClass</th>\n",
       "      <th>MSZoning</th>\n",
       "      <th>Street</th>\n",
       "      <th>Alley</th>\n",
       "      <th>LotShape</th>\n",
       "      <th>LandContour</th>\n",
       "      <th>Utilities</th>\n",
       "      <th>LotConfig</th>\n",
       "      <th>LandSlope</th>\n",
       "      <th>Neighborhood</th>\n",
       "      <th>...</th>\n",
       "      <th>GarageQual</th>\n",
       "      <th>GarageCond</th>\n",
       "      <th>PavedDrive</th>\n",
       "      <th>PoolQC</th>\n",
       "      <th>Fence</th>\n",
       "      <th>MiscFeature</th>\n",
       "      <th>MoSold</th>\n",
       "      <th>YrSold</th>\n",
       "      <th>SaleType</th>\n",
       "      <th>SaleCondition</th>\n",
       "    </tr>\n",
       "  </thead>\n",
       "  <tbody>\n",
       "    <tr>\n",
       "      <th>0</th>\n",
       "      <td>30</td>\n",
       "      <td>RL</td>\n",
       "      <td>Pave</td>\n",
       "      <td>None</td>\n",
       "      <td>Reg</td>\n",
       "      <td>Lvl</td>\n",
       "      <td>AllPub</td>\n",
       "      <td>Corner</td>\n",
       "      <td>Gtl</td>\n",
       "      <td>SWISU</td>\n",
       "      <td>...</td>\n",
       "      <td>TA</td>\n",
       "      <td>TA</td>\n",
       "      <td>Y</td>\n",
       "      <td>None</td>\n",
       "      <td>None</td>\n",
       "      <td>None</td>\n",
       "      <td>3</td>\n",
       "      <td>2010</td>\n",
       "      <td>WD</td>\n",
       "      <td>Normal</td>\n",
       "    </tr>\n",
       "    <tr>\n",
       "      <th>1</th>\n",
       "      <td>120</td>\n",
       "      <td>RL</td>\n",
       "      <td>Pave</td>\n",
       "      <td>None</td>\n",
       "      <td>Reg</td>\n",
       "      <td>Lvl</td>\n",
       "      <td>AllPub</td>\n",
       "      <td>Inside</td>\n",
       "      <td>Gtl</td>\n",
       "      <td>Edwards</td>\n",
       "      <td>...</td>\n",
       "      <td>TA</td>\n",
       "      <td>TA</td>\n",
       "      <td>Y</td>\n",
       "      <td>None</td>\n",
       "      <td>None</td>\n",
       "      <td>None</td>\n",
       "      <td>2</td>\n",
       "      <td>2009</td>\n",
       "      <td>WD</td>\n",
       "      <td>Normal</td>\n",
       "    </tr>\n",
       "  </tbody>\n",
       "</table>\n",
       "<p>2 rows × 48 columns</p>\n",
       "</div>"
      ],
      "text/plain": [
       "  MSSubClass MSZoning Street Alley LotShape LandContour Utilities LotConfig  \\\n",
       "0         30       RL   Pave  None      Reg         Lvl    AllPub    Corner   \n",
       "1        120       RL   Pave  None      Reg         Lvl    AllPub    Inside   \n",
       "\n",
       "  LandSlope Neighborhood  ... GarageQual GarageCond PavedDrive PoolQC Fence  \\\n",
       "0       Gtl        SWISU  ...         TA         TA          Y   None  None   \n",
       "1       Gtl      Edwards  ...         TA         TA          Y   None  None   \n",
       "\n",
       "  MiscFeature MoSold YrSold SaleType SaleCondition  \n",
       "0        None      3   2010      WD         Normal  \n",
       "1        None      2   2009      WD         Normal  \n",
       "\n",
       "[2 rows x 48 columns]"
      ]
     },
     "execution_count": 4,
     "metadata": {},
     "output_type": "execute_result"
    }
   ],
   "source": [
    "# define categorical features\n",
    "categorical_features = ames.select_dtypes(include=['object'])\n",
    "\n",
    "# define categorical features list\n",
    "categorical_features_list = categorical_features.columns\n",
    "\n",
    "# print number of categorical features and head of df\n",
    "print(f'number of categorical features: {len(categorical_features_list)}')\n",
    "categorical_features.head(2)"
   ]
  },
  {
   "cell_type": "markdown",
   "id": "c5c369dd-ae66-49c1-9559-c818b72a11f8",
   "metadata": {},
   "source": [
    "### Score categorical features individually\n",
    "\n",
    "Score the sfs-reduced numeric feature set with each categorical feature, individually, to see which ones are the most predictive"
   ]
  },
  {
   "cell_type": "code",
   "execution_count": 6,
   "id": "6aaf4fd9-0aa9-46dd-9e00-354ecc3cad73",
   "metadata": {},
   "outputs": [
    {
     "data": {
      "text/html": [
       "<div>\n",
       "<style scoped>\n",
       "    .dataframe tbody tr th:only-of-type {\n",
       "        vertical-align: middle;\n",
       "    }\n",
       "\n",
       "    .dataframe tbody tr th {\n",
       "        vertical-align: top;\n",
       "    }\n",
       "\n",
       "    .dataframe thead th {\n",
       "        text-align: right;\n",
       "    }\n",
       "</style>\n",
       "<table border=\"1\" class=\"dataframe\">\n",
       "  <thead>\n",
       "    <tr style=\"text-align: right;\">\n",
       "      <th></th>\n",
       "      <th>GrLivArea</th>\n",
       "      <th>LotFrontage</th>\n",
       "      <th>LotArea</th>\n",
       "      <th>YearBuilt</th>\n",
       "      <th>YearRemodAdd</th>\n",
       "      <th>MasVnrArea</th>\n",
       "      <th>BsmtFinSF1</th>\n",
       "      <th>TotalBsmtSF</th>\n",
       "      <th>BedroomAbvGr</th>\n",
       "      <th>KitchenAbvGr</th>\n",
       "      <th>TotRmsAbvGrd</th>\n",
       "      <th>Fireplaces</th>\n",
       "      <th>GarageArea</th>\n",
       "      <th>WoodDeckSF</th>\n",
       "      <th>ScreenPorch</th>\n",
       "    </tr>\n",
       "  </thead>\n",
       "  <tbody>\n",
       "    <tr>\n",
       "      <th>0</th>\n",
       "      <td>856</td>\n",
       "      <td>68.0</td>\n",
       "      <td>7890</td>\n",
       "      <td>1939</td>\n",
       "      <td>1950</td>\n",
       "      <td>0.0</td>\n",
       "      <td>238.0</td>\n",
       "      <td>856.0</td>\n",
       "      <td>2</td>\n",
       "      <td>1</td>\n",
       "      <td>4</td>\n",
       "      <td>1</td>\n",
       "      <td>399.0</td>\n",
       "      <td>0</td>\n",
       "      <td>166</td>\n",
       "    </tr>\n",
       "    <tr>\n",
       "      <th>1</th>\n",
       "      <td>1049</td>\n",
       "      <td>42.0</td>\n",
       "      <td>4235</td>\n",
       "      <td>1984</td>\n",
       "      <td>1984</td>\n",
       "      <td>149.0</td>\n",
       "      <td>552.0</td>\n",
       "      <td>1049.0</td>\n",
       "      <td>2</td>\n",
       "      <td>1</td>\n",
       "      <td>5</td>\n",
       "      <td>0</td>\n",
       "      <td>266.0</td>\n",
       "      <td>0</td>\n",
       "      <td>0</td>\n",
       "    </tr>\n",
       "  </tbody>\n",
       "</table>\n",
       "</div>"
      ],
      "text/plain": [
       "   GrLivArea  LotFrontage  LotArea  YearBuilt  YearRemodAdd  MasVnrArea  \\\n",
       "0        856         68.0     7890       1939          1950         0.0   \n",
       "1       1049         42.0     4235       1984          1984       149.0   \n",
       "\n",
       "   BsmtFinSF1  TotalBsmtSF  BedroomAbvGr  KitchenAbvGr  TotRmsAbvGrd  \\\n",
       "0       238.0        856.0             2             1             4   \n",
       "1       552.0       1049.0             2             1             5   \n",
       "\n",
       "   Fireplaces  GarageArea  WoodDeckSF  ScreenPorch  \n",
       "0           1       399.0           0          166  \n",
       "1           0       266.0           0            0  "
      ]
     },
     "execution_count": 6,
     "metadata": {},
     "output_type": "execute_result"
    }
   ],
   "source": [
    "# define features for modeling\n",
    "X = sfs_numerical_features\n",
    "y = ames['SalePrice']\n",
    "X.head(2)"
   ]
  },
  {
   "cell_type": "code",
   "execution_count": 7,
   "id": "6702ec13-a88f-4ca9-936c-cdcba6d06a71",
   "metadata": {},
   "outputs": [
    {
     "data": {
      "text/plain": [
       "0.829458253090675"
      ]
     },
     "execution_count": 7,
     "metadata": {},
     "output_type": "execute_result"
    }
   ],
   "source": [
    "# Baseline score for sfs-reduced numeric features, no categorical features\n",
    "baseline_score = cross_val_score(LinearRegression(), X, y, cv=5).mean()\n",
    "baseline_score"
   ]
  },
  {
   "cell_type": "code",
   "execution_count": 8,
   "id": "0f199816-38af-4997-aa83-0c00fed9380e",
   "metadata": {},
   "outputs": [
    {
     "name": "stdout",
     "output_type": "stream",
     "text": [
      "MSSubClass: 0.8349 (+0.0054)\n",
      "MSZoning: 0.8293 (+-0.0001)\n"
     ]
    },
    {
     "name": "stderr",
     "output_type": "stream",
     "text": [
      "/opt/anaconda3/lib/python3.11/site-packages/sklearn/preprocessing/_encoders.py:202: UserWarning: Found unknown categories in columns [0] during transform. These unknown categories will be encoded as all zeros\n",
      "  warnings.warn(\n",
      "/opt/anaconda3/lib/python3.11/site-packages/sklearn/preprocessing/_encoders.py:202: UserWarning: Found unknown categories in columns [0] during transform. These unknown categories will be encoded as all zeros\n",
      "  warnings.warn(\n",
      "/opt/anaconda3/lib/python3.11/site-packages/sklearn/preprocessing/_encoders.py:202: UserWarning: Found unknown categories in columns [0] during transform. These unknown categories will be encoded as all zeros\n",
      "  warnings.warn(\n"
     ]
    },
    {
     "name": "stdout",
     "output_type": "stream",
     "text": [
      "Street: 0.8294 (+-0.0001)\n",
      "Alley: 0.8294 (+-0.0001)\n",
      "LotShape: 0.8303 (+0.0008)\n",
      "LandContour: 0.8333 (+0.0039)\n",
      "Utilities: 0.8295 (+-0.0000)\n",
      "LotConfig: 0.8301 (+0.0007)\n",
      "LandSlope: 0.8293 (+-0.0001)\n",
      "Neighborhood: 0.8573 (+0.0279)\n",
      "Condition1: 0.8296 (+0.0002)\n"
     ]
    },
    {
     "name": "stderr",
     "output_type": "stream",
     "text": [
      "/opt/anaconda3/lib/python3.11/site-packages/sklearn/preprocessing/_encoders.py:202: UserWarning: Found unknown categories in columns [0] during transform. These unknown categories will be encoded as all zeros\n",
      "  warnings.warn(\n",
      "/opt/anaconda3/lib/python3.11/site-packages/sklearn/preprocessing/_encoders.py:202: UserWarning: Found unknown categories in columns [0] during transform. These unknown categories will be encoded as all zeros\n",
      "  warnings.warn(\n",
      "/opt/anaconda3/lib/python3.11/site-packages/sklearn/preprocessing/_encoders.py:202: UserWarning: Found unknown categories in columns [0] during transform. These unknown categories will be encoded as all zeros\n",
      "  warnings.warn(\n",
      "/opt/anaconda3/lib/python3.11/site-packages/sklearn/preprocessing/_encoders.py:202: UserWarning: Found unknown categories in columns [0] during transform. These unknown categories will be encoded as all zeros\n",
      "  warnings.warn(\n",
      "/opt/anaconda3/lib/python3.11/site-packages/sklearn/preprocessing/_encoders.py:202: UserWarning: Found unknown categories in columns [0] during transform. These unknown categories will be encoded as all zeros\n",
      "  warnings.warn(\n"
     ]
    },
    {
     "name": "stdout",
     "output_type": "stream",
     "text": [
      "Condition2: 0.8247 (+-0.0048)\n",
      "BldgType: 0.8318 (+0.0023)\n",
      "HouseStyle: 0.8285 (+-0.0010)\n",
      "OverallQual: 0.8847 (+0.0553)\n",
      "OverallCond: 0.8369 (+0.0074)\n",
      "RoofStyle: 0.8296 (+0.0001)\n",
      "RoofMatl: 0.8314 (+0.0019)\n",
      "Exterior1st: 0.8344 (+0.0050)\n",
      "Exterior2nd: 0.8326 (+0.0031)\n"
     ]
    },
    {
     "name": "stderr",
     "output_type": "stream",
     "text": [
      "/opt/anaconda3/lib/python3.11/site-packages/sklearn/preprocessing/_encoders.py:202: UserWarning: Found unknown categories in columns [0] during transform. These unknown categories will be encoded as all zeros\n",
      "  warnings.warn(\n",
      "/opt/anaconda3/lib/python3.11/site-packages/sklearn/preprocessing/_encoders.py:202: UserWarning: Found unknown categories in columns [0] during transform. These unknown categories will be encoded as all zeros\n",
      "  warnings.warn(\n",
      "/opt/anaconda3/lib/python3.11/site-packages/sklearn/preprocessing/_encoders.py:202: UserWarning: Found unknown categories in columns [0] during transform. These unknown categories will be encoded as all zeros\n",
      "  warnings.warn(\n",
      "/opt/anaconda3/lib/python3.11/site-packages/sklearn/preprocessing/_encoders.py:202: UserWarning: Found unknown categories in columns [0] during transform. These unknown categories will be encoded as all zeros\n",
      "  warnings.warn(\n",
      "/opt/anaconda3/lib/python3.11/site-packages/sklearn/preprocessing/_encoders.py:202: UserWarning: Found unknown categories in columns [0] during transform. These unknown categories will be encoded as all zeros\n",
      "  warnings.warn(\n",
      "/opt/anaconda3/lib/python3.11/site-packages/sklearn/preprocessing/_encoders.py:202: UserWarning: Found unknown categories in columns [0] during transform. These unknown categories will be encoded as all zeros\n",
      "  warnings.warn(\n"
     ]
    },
    {
     "name": "stdout",
     "output_type": "stream",
     "text": [
      "MasVnrType: 0.8333 (+0.0038)\n",
      "ExterQual: 0.8559 (+0.0264)\n",
      "ExterCond: 0.8294 (+-0.0001)\n",
      "Foundation: 0.8342 (+0.0048)\n",
      "BsmtQual: 0.8519 (+0.0225)\n",
      "BsmtCond: 0.8311 (+0.0017)\n",
      "BsmtExposure: 0.8370 (+0.0075)\n",
      "BsmtFinType1: 0.8340 (+0.0045)\n",
      "BsmtFinType2: 0.8321 (+0.0026)\n",
      "Heating: 0.8301 (+0.0006)\n",
      "HeatingQC: 0.8330 (+0.0035)\n"
     ]
    },
    {
     "name": "stderr",
     "output_type": "stream",
     "text": [
      "/opt/anaconda3/lib/python3.11/site-packages/sklearn/preprocessing/_encoders.py:202: UserWarning: Found unknown categories in columns [0] during transform. These unknown categories will be encoded as all zeros\n",
      "  warnings.warn(\n",
      "/opt/anaconda3/lib/python3.11/site-packages/sklearn/preprocessing/_encoders.py:202: UserWarning: Found unknown categories in columns [0] during transform. These unknown categories will be encoded as all zeros\n",
      "  warnings.warn(\n",
      "/opt/anaconda3/lib/python3.11/site-packages/sklearn/preprocessing/_encoders.py:202: UserWarning: Found unknown categories in columns [0] during transform. These unknown categories will be encoded as all zeros\n",
      "  warnings.warn(\n",
      "/opt/anaconda3/lib/python3.11/site-packages/sklearn/preprocessing/_encoders.py:202: UserWarning: Found unknown categories in columns [0] during transform. These unknown categories will be encoded as all zeros\n",
      "  warnings.warn(\n"
     ]
    },
    {
     "name": "stdout",
     "output_type": "stream",
     "text": [
      "CentralAir: 0.8296 (+0.0001)\n",
      "Electrical: 0.8297 (+0.0002)\n",
      "KitchenQual: 0.8545 (+0.0250)\n",
      "Functional: 0.8368 (+0.0073)\n",
      "FireplaceQu: 0.8345 (+0.0051)\n",
      "GarageType: 0.8315 (+0.0021)\n",
      "GarageFinish: 0.8324 (+0.0030)\n",
      "GarageQual: 0.8304 (+0.0010)\n",
      "GarageCond: 0.8302 (+0.0007)\n",
      "PavedDrive: 0.8292 (+-0.0003)\n",
      "PoolQC: 0.8274 (+-0.0021)\n",
      "Fence: 0.8294 (+-0.0001)\n",
      "MiscFeature: 0.8296 (+0.0001)\n",
      "MoSold: 0.8291 (+-0.0003)\n",
      "YrSold: 0.8291 (+-0.0003)\n",
      "SaleType: 0.8298 (+0.0004)\n",
      "SaleCondition: 0.8318 (+0.0024)\n"
     ]
    },
    {
     "name": "stderr",
     "output_type": "stream",
     "text": [
      "/opt/anaconda3/lib/python3.11/site-packages/sklearn/preprocessing/_encoders.py:202: UserWarning: Found unknown categories in columns [0] during transform. These unknown categories will be encoded as all zeros\n",
      "  warnings.warn(\n",
      "/opt/anaconda3/lib/python3.11/site-packages/sklearn/preprocessing/_encoders.py:202: UserWarning: Found unknown categories in columns [0] during transform. These unknown categories will be encoded as all zeros\n",
      "  warnings.warn(\n"
     ]
    }
   ],
   "source": [
    "categorical_improvements = {}\n",
    "for cat_feature in categorical_features_list:\n",
    "    # Test numeric feature set + this categorical\n",
    "    test_features = sfs_numerical_features_list + [cat_feature]\n",
    "    \n",
    "    # preprocess this combination\n",
    "    preprocessor = ColumnTransformer([\n",
    "        ('num', 'passthrough', sfs_numerical_features_list),\n",
    "        ('cat', OneHotEncoder(drop='first', handle_unknown='ignore', sparse_output=False), [cat_feature])\n",
    "    ])\n",
    "    \n",
    "    model = Pipeline([\n",
    "        ('preprocessor', preprocessor),\n",
    "        ('regressor', LinearRegression())\n",
    "    ])\n",
    "    \n",
    "    score = cross_val_score(model, ames[test_features], y, cv=5).mean()\n",
    "    improvement = score - baseline_score\n",
    "    \n",
    "    categorical_improvements[cat_feature] = improvement\n",
    "    print(f\"{cat_feature}: {score:.4f} (+{improvement:.4f})\")"
   ]
  },
  {
   "cell_type": "code",
   "execution_count": 9,
   "id": "3652b7fe-a1a1-4bce-aac3-54db684c7f23",
   "metadata": {},
   "outputs": [
    {
     "name": "stdout",
     "output_type": "stream",
     "text": [
      "\n",
      "Best categorical features to add to sfs-reduced numeric features:\n",
      "OverallQual: +0.0553\n",
      "Neighborhood: +0.0279\n",
      "ExterQual: +0.0264\n",
      "KitchenQual: +0.0250\n",
      "BsmtQual: +0.0225\n",
      "BsmtExposure: +0.0075\n",
      "OverallCond: +0.0074\n",
      "Functional: +0.0073\n",
      "MSSubClass: +0.0054\n",
      "FireplaceQu: +0.0051\n",
      "Exterior1st: +0.0050\n",
      "Foundation: +0.0048\n",
      "BsmtFinType1: +0.0045\n",
      "LandContour: +0.0039\n",
      "MasVnrType: +0.0038\n",
      "HeatingQC: +0.0035\n",
      "Exterior2nd: +0.0031\n",
      "GarageFinish: +0.0030\n",
      "BsmtFinType2: +0.0026\n",
      "SaleCondition: +0.0024\n",
      "BldgType: +0.0023\n",
      "GarageType: +0.0021\n",
      "RoofMatl: +0.0019\n",
      "BsmtCond: +0.0017\n",
      "GarageQual: +0.0010\n",
      "LotShape: +0.0008\n",
      "GarageCond: +0.0007\n",
      "LotConfig: +0.0007\n",
      "Heating: +0.0006\n",
      "SaleType: +0.0004\n"
     ]
    }
   ],
   "source": [
    "# sort improvements\n",
    "sorted_cats = sorted(categorical_improvements.items(), key=lambda x: x[1], reverse=True)\n",
    "print(f\"\\nBest categorical features to add to sfs-reduced numeric features:\")\n",
    "for cat, improvement in sorted_cats[:30]:\n",
    "    print(f\"{cat}: +{improvement:.4f}\")"
   ]
  },
  {
   "cell_type": "code",
   "execution_count": 10,
   "id": "d1abbc8f-6e81-4ab3-95a7-d89cd2168541",
   "metadata": {},
   "outputs": [],
   "source": [
    "# define list of most predictive categorical features\n",
    "best_cat_list = [\n",
    "    'OverallQual',\n",
    "    'Neighborhood',\n",
    "    'ExterQual',\n",
    "    'KitchenQual',\n",
    "    'BsmtQual',\n",
    "    'BsmtExposure',\n",
    "    'OverallCond',\n",
    "    'Functional',\n",
    "    'MSSubClass',\n",
    "    'FireplaceQu',\n",
    "    'Exterior1st',\n",
    "    'Foundation',\n",
    "    # 'BsmtFinType1', \n",
    "    # 'LandContour',\n",
    "    # 'MasVnrType',\n",
    "    # 'HeatingQC',\n",
    "    # 'Exterior2nd',\n",
    "    # 'GarageFinish',\n",
    "    # 'BsmtFinType2', \n",
    "    # 'SaleCondition', \n",
    "]"
   ]
  },
  {
   "cell_type": "code",
   "execution_count": 11,
   "id": "60159c16-17a5-4160-9e91-065fe67ad40e",
   "metadata": {},
   "outputs": [
    {
     "data": {
      "text/html": [
       "<div>\n",
       "<style scoped>\n",
       "    .dataframe tbody tr th:only-of-type {\n",
       "        vertical-align: middle;\n",
       "    }\n",
       "\n",
       "    .dataframe tbody tr th {\n",
       "        vertical-align: top;\n",
       "    }\n",
       "\n",
       "    .dataframe thead th {\n",
       "        text-align: right;\n",
       "    }\n",
       "</style>\n",
       "<table border=\"1\" class=\"dataframe\">\n",
       "  <thead>\n",
       "    <tr style=\"text-align: right;\">\n",
       "      <th></th>\n",
       "      <th>OverallQual</th>\n",
       "      <th>Neighborhood</th>\n",
       "      <th>ExterQual</th>\n",
       "      <th>KitchenQual</th>\n",
       "      <th>BsmtQual</th>\n",
       "      <th>BsmtExposure</th>\n",
       "      <th>OverallCond</th>\n",
       "      <th>Functional</th>\n",
       "      <th>MSSubClass</th>\n",
       "      <th>FireplaceQu</th>\n",
       "      <th>Exterior1st</th>\n",
       "      <th>Foundation</th>\n",
       "    </tr>\n",
       "  </thead>\n",
       "  <tbody>\n",
       "    <tr>\n",
       "      <th>0</th>\n",
       "      <td>6</td>\n",
       "      <td>SWISU</td>\n",
       "      <td>TA</td>\n",
       "      <td>TA</td>\n",
       "      <td>TA</td>\n",
       "      <td>No</td>\n",
       "      <td>6</td>\n",
       "      <td>Typ</td>\n",
       "      <td>30</td>\n",
       "      <td>Gd</td>\n",
       "      <td>Wd Sdng</td>\n",
       "      <td>CBlock</td>\n",
       "    </tr>\n",
       "    <tr>\n",
       "      <th>1</th>\n",
       "      <td>5</td>\n",
       "      <td>Edwards</td>\n",
       "      <td>Gd</td>\n",
       "      <td>Gd</td>\n",
       "      <td>Gd</td>\n",
       "      <td>Mn</td>\n",
       "      <td>5</td>\n",
       "      <td>Typ</td>\n",
       "      <td>120</td>\n",
       "      <td>None</td>\n",
       "      <td>HdBoard</td>\n",
       "      <td>CBlock</td>\n",
       "    </tr>\n",
       "  </tbody>\n",
       "</table>\n",
       "</div>"
      ],
      "text/plain": [
       "  OverallQual Neighborhood ExterQual KitchenQual BsmtQual BsmtExposure  \\\n",
       "0           6        SWISU        TA          TA       TA           No   \n",
       "1           5      Edwards        Gd          Gd       Gd           Mn   \n",
       "\n",
       "  OverallCond Functional MSSubClass FireplaceQu Exterior1st Foundation  \n",
       "0           6        Typ         30          Gd     Wd Sdng     CBlock  \n",
       "1           5        Typ        120        None     HdBoard     CBlock  "
      ]
     },
     "execution_count": 11,
     "metadata": {},
     "output_type": "execute_result"
    }
   ],
   "source": [
    "best_cat_df = ames[best_cat_list]\n",
    "best_cat_df.head(2)"
   ]
  },
  {
   "cell_type": "code",
   "execution_count": 12,
   "id": "30d39805-4330-4561-aceb-44d582bcaa0e",
   "metadata": {},
   "outputs": [
    {
     "data": {
      "text/html": [
       "<div>\n",
       "<style scoped>\n",
       "    .dataframe tbody tr th:only-of-type {\n",
       "        vertical-align: middle;\n",
       "    }\n",
       "\n",
       "    .dataframe tbody tr th {\n",
       "        vertical-align: top;\n",
       "    }\n",
       "\n",
       "    .dataframe thead th {\n",
       "        text-align: right;\n",
       "    }\n",
       "</style>\n",
       "<table border=\"1\" class=\"dataframe\">\n",
       "  <thead>\n",
       "    <tr style=\"text-align: right;\">\n",
       "      <th></th>\n",
       "      <th>GrLivArea</th>\n",
       "      <th>LotFrontage</th>\n",
       "      <th>LotArea</th>\n",
       "      <th>YearBuilt</th>\n",
       "      <th>YearRemodAdd</th>\n",
       "      <th>MasVnrArea</th>\n",
       "      <th>BsmtFinSF1</th>\n",
       "      <th>TotalBsmtSF</th>\n",
       "      <th>BedroomAbvGr</th>\n",
       "      <th>KitchenAbvGr</th>\n",
       "      <th>...</th>\n",
       "      <th>ExterQual</th>\n",
       "      <th>KitchenQual</th>\n",
       "      <th>BsmtQual</th>\n",
       "      <th>BsmtExposure</th>\n",
       "      <th>OverallCond</th>\n",
       "      <th>Functional</th>\n",
       "      <th>MSSubClass</th>\n",
       "      <th>FireplaceQu</th>\n",
       "      <th>Exterior1st</th>\n",
       "      <th>Foundation</th>\n",
       "    </tr>\n",
       "  </thead>\n",
       "  <tbody>\n",
       "    <tr>\n",
       "      <th>0</th>\n",
       "      <td>856</td>\n",
       "      <td>68.0</td>\n",
       "      <td>7890</td>\n",
       "      <td>1939</td>\n",
       "      <td>1950</td>\n",
       "      <td>0.0</td>\n",
       "      <td>238.0</td>\n",
       "      <td>856.0</td>\n",
       "      <td>2</td>\n",
       "      <td>1</td>\n",
       "      <td>...</td>\n",
       "      <td>TA</td>\n",
       "      <td>TA</td>\n",
       "      <td>TA</td>\n",
       "      <td>No</td>\n",
       "      <td>6</td>\n",
       "      <td>Typ</td>\n",
       "      <td>30</td>\n",
       "      <td>Gd</td>\n",
       "      <td>Wd Sdng</td>\n",
       "      <td>CBlock</td>\n",
       "    </tr>\n",
       "    <tr>\n",
       "      <th>1</th>\n",
       "      <td>1049</td>\n",
       "      <td>42.0</td>\n",
       "      <td>4235</td>\n",
       "      <td>1984</td>\n",
       "      <td>1984</td>\n",
       "      <td>149.0</td>\n",
       "      <td>552.0</td>\n",
       "      <td>1049.0</td>\n",
       "      <td>2</td>\n",
       "      <td>1</td>\n",
       "      <td>...</td>\n",
       "      <td>Gd</td>\n",
       "      <td>Gd</td>\n",
       "      <td>Gd</td>\n",
       "      <td>Mn</td>\n",
       "      <td>5</td>\n",
       "      <td>Typ</td>\n",
       "      <td>120</td>\n",
       "      <td>None</td>\n",
       "      <td>HdBoard</td>\n",
       "      <td>CBlock</td>\n",
       "    </tr>\n",
       "  </tbody>\n",
       "</table>\n",
       "<p>2 rows × 27 columns</p>\n",
       "</div>"
      ],
      "text/plain": [
       "   GrLivArea  LotFrontage  LotArea  YearBuilt  YearRemodAdd  MasVnrArea  \\\n",
       "0        856         68.0     7890       1939          1950         0.0   \n",
       "1       1049         42.0     4235       1984          1984       149.0   \n",
       "\n",
       "   BsmtFinSF1  TotalBsmtSF  BedroomAbvGr  KitchenAbvGr  ...  ExterQual  \\\n",
       "0       238.0        856.0             2             1  ...         TA   \n",
       "1       552.0       1049.0             2             1  ...         Gd   \n",
       "\n",
       "   KitchenQual  BsmtQual  BsmtExposure  OverallCond Functional MSSubClass  \\\n",
       "0           TA        TA            No            6        Typ         30   \n",
       "1           Gd        Gd            Mn            5        Typ        120   \n",
       "\n",
       "  FireplaceQu Exterior1st Foundation  \n",
       "0          Gd     Wd Sdng     CBlock  \n",
       "1        None     HdBoard     CBlock  \n",
       "\n",
       "[2 rows x 27 columns]"
      ]
     },
     "execution_count": 12,
     "metadata": {},
     "output_type": "execute_result"
    }
   ],
   "source": [
    "# create dataframe with sfs-reduced numerical features and these best categorical features\n",
    "X_reduced = sfs_numerical_features.join(best_cat_df)\n",
    "X_reduced.head(2)"
   ]
  },
  {
   "cell_type": "code",
   "execution_count": 13,
   "id": "e2a4d3df-09ff-4d4e-be96-3c55bad9fadb",
   "metadata": {},
   "outputs": [],
   "source": [
    "# define target\n",
    "y = ames['SalePrice']"
   ]
  },
  {
   "cell_type": "code",
   "execution_count": 14,
   "id": "908cc861-bd6f-44e4-933a-c53513623294",
   "metadata": {},
   "outputs": [],
   "source": [
    "# define preprocessor\n",
    "preprocessor = ColumnTransformer(\n",
    "    transformers=[\n",
    "        ('numerical', 'passthrough', sfs_numerical_features_list),\n",
    "        ('onehot', OneHotEncoder(drop='first', sparse_output=False, handle_unknown='ignore'), best_cat_list)\n",
    "])"
   ]
  },
  {
   "cell_type": "code",
   "execution_count": 15,
   "id": "3d470902-2e8f-4307-8f3b-4faaaba0caf2",
   "metadata": {},
   "outputs": [],
   "source": [
    "# fit the model\n",
    "model = Pipeline(\n",
    "    steps=[\n",
    "        ('preprocessor', preprocessor),\n",
    "        ('regressor', LinearRegression())\n",
    "    ])"
   ]
  },
  {
   "cell_type": "code",
   "execution_count": 16,
   "id": "ce561e88-191c-46a1-b7e8-a5a64f605dfe",
   "metadata": {},
   "outputs": [
    {
     "name": "stderr",
     "output_type": "stream",
     "text": [
      "/opt/anaconda3/lib/python3.11/site-packages/sklearn/preprocessing/_encoders.py:202: UserWarning: Found unknown categories in columns [3, 7, 10] during transform. These unknown categories will be encoded as all zeros\n",
      "  warnings.warn(\n",
      "/opt/anaconda3/lib/python3.11/site-packages/sklearn/preprocessing/_encoders.py:202: UserWarning: Found unknown categories in columns [1, 10] during transform. These unknown categories will be encoded as all zeros\n",
      "  warnings.warn(\n",
      "/opt/anaconda3/lib/python3.11/site-packages/sklearn/preprocessing/_encoders.py:202: UserWarning: Found unknown categories in columns [8, 10] during transform. These unknown categories will be encoded as all zeros\n",
      "  warnings.warn(\n",
      "/opt/anaconda3/lib/python3.11/site-packages/sklearn/preprocessing/_encoders.py:202: UserWarning: Found unknown categories in columns [10] during transform. These unknown categories will be encoded as all zeros\n",
      "  warnings.warn(\n",
      "/opt/anaconda3/lib/python3.11/site-packages/sklearn/preprocessing/_encoders.py:202: UserWarning: Found unknown categories in columns [10] during transform. These unknown categories will be encoded as all zeros\n",
      "  warnings.warn(\n",
      "/opt/anaconda3/lib/python3.11/site-packages/sklearn/preprocessing/_encoders.py:202: UserWarning: Found unknown categories in columns [3, 7, 8, 10] during transform. These unknown categories will be encoded as all zeros\n",
      "  warnings.warn(\n",
      "/opt/anaconda3/lib/python3.11/site-packages/sklearn/preprocessing/_encoders.py:202: UserWarning: Found unknown categories in columns [1, 4] during transform. These unknown categories will be encoded as all zeros\n",
      "  warnings.warn(\n",
      "/opt/anaconda3/lib/python3.11/site-packages/sklearn/preprocessing/_encoders.py:202: UserWarning: Found unknown categories in columns [1] during transform. These unknown categories will be encoded as all zeros\n",
      "  warnings.warn(\n",
      "/opt/anaconda3/lib/python3.11/site-packages/sklearn/preprocessing/_encoders.py:202: UserWarning: Found unknown categories in columns [1, 7, 10] during transform. These unknown categories will be encoded as all zeros\n",
      "  warnings.warn(\n",
      "/opt/anaconda3/lib/python3.11/site-packages/sklearn/preprocessing/_encoders.py:202: UserWarning: Found unknown categories in columns [8] during transform. These unknown categories will be encoded as all zeros\n",
      "  warnings.warn(\n",
      "/opt/anaconda3/lib/python3.11/site-packages/sklearn/preprocessing/_encoders.py:202: UserWarning: Found unknown categories in columns [10] during transform. These unknown categories will be encoded as all zeros\n",
      "  warnings.warn(\n",
      "/opt/anaconda3/lib/python3.11/site-packages/sklearn/preprocessing/_encoders.py:202: UserWarning: Found unknown categories in columns [4] during transform. These unknown categories will be encoded as all zeros\n",
      "  warnings.warn(\n"
     ]
    },
    {
     "name": "stdout",
     "output_type": "stream",
     "text": [
      "cv scores [0.8694846  0.91694176 0.9311637  0.92986919 0.92299942]\n"
     ]
    }
   ],
   "source": [
    "# create storage\n",
    "results = {}\n",
    "\n",
    "# fit and evaluate the model on all data and score\n",
    "model.fit(X_reduced, y)\n",
    "cv_scores = cross_val_score(model, X_reduced, y)\n",
    "mean_cv_score = float(round(cv_scores.mean(), 4))\n",
    "\n",
    "# evaluate on train-test for overfitting analysis\n",
    "X_train, X_test, y_train, y_test = train_test_split(X_reduced, y, test_size=0.2, random_state = 0)\n",
    "\n",
    "model.fit(X_train, y_train)\n",
    "train_score = (cross_val_score(model, X_train, y_train)).mean()\n",
    "test_score = (cross_val_score(model, X_test, y_test)).mean()\n",
    "diff = train_score - test_score\n",
    "\n",
    "results = {\n",
    "    'mean-cv on X and y': round(mean_cv_score, 4),\n",
    "    'train score': round(train_score, 4),\n",
    "    'test score': round(test_score, 4),\n",
    "    'train-test gap': round(diff, 4),\n",
    "    'scenario': f'linear-linear 15/{len(best_cat_df.columns)} model:',\n",
    "    'algorithm': 'MLR'\n",
    "}\n",
    "\n",
    "print(f'cv scores', cv_scores)"
   ]
  },
  {
   "cell_type": "code",
   "execution_count": 17,
   "id": "a14ed89f-05ec-46dc-9021-86e02b6e1290",
   "metadata": {},
   "outputs": [
    {
     "data": {
      "text/plain": [
       "{'mean-cv on X and y': 0.9141,\n",
       " 'train score': 0.8949,\n",
       " 'test score': 0.915,\n",
       " 'train-test gap': -0.02,\n",
       " 'scenario': 'linear-linear 15/12 model:',\n",
       " 'algorithm': 'MLR'}"
      ]
     },
     "execution_count": 17,
     "metadata": {},
     "output_type": "execute_result"
    }
   ],
   "source": [
    "results"
   ]
  },
  {
   "cell_type": "code",
   "execution_count": null,
   "id": "322c153c-7fff-4e0e-b388-733ca04ceb22",
   "metadata": {},
   "outputs": [],
   "source": []
  },
  {
   "cell_type": "markdown",
   "id": "ebc66f48-5403-4af2-9ad5-3268b0e18e0d",
   "metadata": {},
   "source": [
    "for sfs selected features with tol=None\n",
    "- 15/7:  0.9083\n",
    "- 15/10: 0.9096\n",
    "- 15/12: 0.9141\n",
    "- 15/15: 0.9141\n",
    "- 15/20: 0.9146\n",
    "- 15/25: 0.9145\n",
    "- 15/30: 0.9131"
   ]
  },
  {
   "cell_type": "code",
   "execution_count": null,
   "id": "2cb936e8-5df9-4ee9-aa9f-e987b4fbbde0",
   "metadata": {},
   "outputs": [],
   "source": []
  },
  {
   "cell_type": "code",
   "execution_count": 19,
   "id": "ac71d8b1-30d4-4c2c-8608-3d8cd33b83a6",
   "metadata": {},
   "outputs": [
    {
     "data": {
      "text/plain": [
       "['OverallQual',\n",
       " 'Neighborhood',\n",
       " 'ExterQual',\n",
       " 'KitchenQual',\n",
       " 'BsmtQual',\n",
       " 'BsmtExposure',\n",
       " 'OverallCond',\n",
       " 'Functional',\n",
       " 'MSSubClass',\n",
       " 'FireplaceQu',\n",
       " 'Exterior1st',\n",
       " 'Foundation']"
      ]
     },
     "execution_count": 19,
     "metadata": {},
     "output_type": "execute_result"
    }
   ],
   "source": [
    "best_cat_list"
   ]
  },
  {
   "cell_type": "code",
   "execution_count": 20,
   "id": "2ab8a8c7-1729-4d2a-8426-b4b969a47262",
   "metadata": {},
   "outputs": [
    {
     "data": {
      "text/plain": [
       "['GrLivArea',\n",
       " 'LotFrontage',\n",
       " 'LotArea',\n",
       " 'YearBuilt',\n",
       " 'YearRemodAdd',\n",
       " 'MasVnrArea',\n",
       " 'BsmtFinSF1',\n",
       " 'TotalBsmtSF',\n",
       " 'BedroomAbvGr',\n",
       " 'KitchenAbvGr',\n",
       " 'TotRmsAbvGrd',\n",
       " 'Fireplaces',\n",
       " 'GarageArea',\n",
       " 'WoodDeckSF',\n",
       " 'ScreenPorch']"
      ]
     },
     "execution_count": 20,
     "metadata": {},
     "output_type": "execute_result"
    }
   ],
   "source": [
    "sfs_numerical_features_list"
   ]
  },
  {
   "cell_type": "code",
   "execution_count": 21,
   "id": "5199ab02-77c4-4458-8288-9b5ced4e3b86",
   "metadata": {},
   "outputs": [],
   "source": [
    "results_df = pd.DataFrame([results])"
   ]
  },
  {
   "cell_type": "code",
   "execution_count": null,
   "id": "3c48d5e4-723f-4ce2-83f0-1f4f3d669c2b",
   "metadata": {},
   "outputs": [],
   "source": []
  },
  {
   "cell_type": "code",
   "execution_count": null,
   "id": "841869f5-8953-4c49-a296-01d3de73cdfd",
   "metadata": {},
   "outputs": [],
   "source": []
  },
  {
   "cell_type": "code",
   "execution_count": 22,
   "id": "ba867d3a-d3ba-4567-9f32-75e7282b0a6a",
   "metadata": {},
   "outputs": [],
   "source": [
    "# double check this, if changed ratio of numerical to categorical features\n",
    "results_df.to_csv('linear_linear_15_12.csv')"
   ]
  },
  {
   "cell_type": "code",
   "execution_count": null,
   "id": "9976dafe-f539-4063-9190-c4e5bc0debff",
   "metadata": {},
   "outputs": [],
   "source": []
  },
  {
   "cell_type": "code",
   "execution_count": null,
   "id": "920fac51-a6c0-451a-bc9b-b0a4f1737d0f",
   "metadata": {},
   "outputs": [],
   "source": []
  },
  {
   "cell_type": "markdown",
   "id": "4b772d70-7e13-4b87-b76c-111ca7768022",
   "metadata": {},
   "source": [
    "# Resources\n",
    "[Return To Top](#Contents)\n",
    "\n",
    "**Dean De Cock paper and original data:**\n",
    "\n",
    "- [Ames, Iowa: Alternative to the Boston Housing Data as an\n",
    "End of Semester Regression Project](https://jse.amstat.org/v19n3/decock.pdf)\n",
    "\n",
    "- [DataDocumentation.txt](https://jse.amstat.org/v19n3/decock/DataDocumentation.txt)\n",
    "\n",
    "- [Ames Data Dictionary on Github](https://github.com/Padre-Media/dataset/blob/main/Ames%20Data%20Dictionary.txt)"
   ]
  }
 ],
 "metadata": {
  "kernelspec": {
   "display_name": "Python 3 (ipykernel)",
   "language": "python",
   "name": "python3"
  },
  "language_info": {
   "codemirror_mode": {
    "name": "ipython",
    "version": 3
   },
   "file_extension": ".py",
   "mimetype": "text/x-python",
   "name": "python",
   "nbconvert_exporter": "python",
   "pygments_lexer": "ipython3",
   "version": "3.11.7"
  }
 },
 "nbformat": 4,
 "nbformat_minor": 5
}
